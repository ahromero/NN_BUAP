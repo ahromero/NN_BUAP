{
 "cells": [
  {
   "cell_type": "markdown",
   "metadata": {},
   "source": [
    "# Introduction to Neural Networks and Deep Learning\n",
    "\n",
    "# Chapter 1: Hands on Neural Networks and CNNs\n",
    "\n",
    "## Prof. Aldo Humberto Romero, Physics Department, West Virginia University\n",
    "\n",
    "## A lot of these notebooks are based on the course prepared at West Virginia University by the research computing group led by Aldo Humberto Romero by mostly done by Guillermo Avendaño-Franco.\n"
   ]
  },
  {
   "cell_type": "code",
   "execution_count": 1,
   "metadata": {},
   "outputs": [],
   "source": [
    "%load_ext watermark"
   ]
  },
  {
   "cell_type": "code",
   "execution_count": 2,
   "metadata": {
    "scrolled": true
   },
   "outputs": [
    {
     "name": "stdout",
     "output_type": "stream",
     "text": [
      "Last updated: 2023-02-14T18:04:03.992503-05:00\n",
      "\n",
      "Python implementation: CPython\n",
      "Python version       : 3.10.8\n",
      "IPython version      : 8.9.0\n",
      "\n",
      "Compiler    : Clang 14.0.6 \n",
      "OS          : Darwin\n",
      "Release     : 22.2.0\n",
      "Machine     : arm64\n",
      "Processor   : arm\n",
      "CPU cores   : 10\n",
      "Architecture: 64bit\n",
      "\n"
     ]
    }
   ],
   "source": [
    "%watermark"
   ]
  },
  {
   "cell_type": "markdown",
   "metadata": {},
   "source": [
    "import time\n",
    "start = time.time()\n",
    "chapter_number = 1\n",
    "import matplotlib\n",
    "%matplotlib inline\n",
    "%load_ext autoreload\n",
    "%autoreload 2"
   ]
  },
  {
   "cell_type": "code",
   "execution_count": 3,
   "metadata": {},
   "outputs": [],
   "source": [
    "import numpy as np\n",
    "import matplotlib.pyplot as plt\n",
    "import tensorflow as tf\n",
    "chapter_number = 2\n",
    "import time\n",
    "start = time.time()"
   ]
  },
  {
   "cell_type": "code",
   "execution_count": 4,
   "metadata": {
    "scrolled": false
   },
   "outputs": [
    {
     "name": "stdout",
     "output_type": "stream",
     "text": [
      "numpy     : 1.23.5\n",
      "tensorflow: 2.11.0\n",
      "matplotlib: 3.6.3\n",
      "\n"
     ]
    }
   ],
   "source": [
    "%watermark -iv"
   ]
  },
  {
   "cell_type": "code",
   "execution_count": 5,
   "metadata": {},
   "outputs": [
    {
     "name": "stdout",
     "output_type": "stream",
     "text": [
      "Using TensorFlow CPU only, lowering the number of epochs\n"
     ]
    }
   ],
   "source": [
    "epoch_reduction_factor = 1.0\n",
    "if len(tf.config.list_physical_devices('GPU')) == 0:\n",
    "    print(\"Using TensorFlow CPU only, lowering the number of epochs\")\n",
    "    epoch_reduction_factor = 0.5"
   ]
  },
  {
   "cell_type": "code",
   "execution_count": null,
   "metadata": {},
   "outputs": [],
   "source": [
    "# IN what follows, we will use data that is stored in the subdirectory data in your current directory\n",
    "# if you are using google colab to study this material, you will have to\n",
    "#  Upload the data directory into your google drive\n",
    "#  Link your google drive into your google collab, this is done by uncommenting the following lines\n",
    "\n",
    "# from google.colab import drive\n",
    "\n",
    "###  This line will take you to your google account, where you give permission to google collab to have access to it\n",
    "# drive.mount('/content/gdrive')\n",
    "\n",
    "## if you want to see the content, just type\n",
    "# !ls \"/content/gdrive/My Drive/\"\n",
    "\n",
    "## END OF LINES TO UNCOMMENT\n",
    "\n",
    "# now, when you are trying to access the data in collab, you have change for example the line\n",
    "\n",
    "#  ./data/keras/datasets/mnist.npz\n",
    "\n",
    "# to\n",
    "\n",
    "# /content/gdrive/My Drive/data/keras/datasets/mnist.npz\n"
   ]
  },
  {
   "cell_type": "markdown",
   "metadata": {},
   "source": [
    "## IMPORTANT\n",
    "\n",
    "To use this notebook and the next ones you need to download the data necessary for that. You can do it by following the link\n",
    "\n",
    "https://drive.google.com/drive/folders/1x-LNDzPQ-AivI9xCM8h4EWg8ppzgfXD6?usp=share_link\n",
    "\n"
   ]
  },
  {
   "cell_type": "markdown",
   "metadata": {},
   "source": [
    "# The MNIST Dataset of handwritten digits"
   ]
  },
  {
   "cell_type": "markdown",
   "metadata": {},
   "source": [
    "The MNIST dataset of handwritten digits is a classical problem in Machine Learning and an iconic problem in Convolutional Neural Networks.\n",
    "\n",
    "The MNIST database was constructed from joining two datasets/databases. The NIST's Special Database 3 and Special Database 1. Both datasets contain binary images of handwritten digits. NIST originally designated SD-3 as their training set and SD-1 as their test set. However, SD-3 is much cleaner and easier to recognize than SD-1. The reason for this can be found in the fact that SD-3 was collected among Census Bureau employees, while SD-1 was collected among high-school students. Drawing sensible conclusions from learning experiments requires that the result be independent of the choice of the training set and test among the complete set of samples. Therefore it was necessary to build a new database by mixing NIST's datasets.\n",
    "\n",
    "The MNIST training set is composed of 30,000 patterns from SD-3 and 30,000 patterns from SD-1. For the test set, 5,000 patterns were taken from SD-3 and 5,000 patterns from SD-1. The 60,000 pattern training set contained examples from approximately 250 writers. We made sure that the sets of writers of the training set and test set were disjoint.\n",
    "\n",
    "The dataset has a training set of 60,000 examples and a test set of 10,000 examples. It is a subset of a larger set available from NIST. The digits have been size-normalized and centered in a fixed-size image.\n",
    "\n",
    "Yann LeCun has a page dedicated to the [MNIST DATASET](http://yann.lecun.com/exdb/mnist) with a list of publications where the dataset has been used.\n",
    "\n",
    "The advantage of using these kinds of datasets is that all the preprocessing and normalization has been done, and some Machine Learning and Deep Learning Frameworks include it with the code or provide easy routines to download it. Let's explore this dataset using TensorFlow and the Keras library."
   ]
  },
  {
   "cell_type": "code",
   "execution_count": 6,
   "metadata": {},
   "outputs": [],
   "source": [
    "def load_data():\n",
    "    path = './data/keras/datasets/mnist.npz'\n",
    "\n",
    "    with np.load(path, allow_pickle=True) as f:  # pylint: disable=unexpected-keyword-arg\n",
    "        x_train, y_train = f['x_train'], f['y_train']\n",
    "        x_test, y_test = f['x_test'], f['y_test']\n",
    "\n",
    "    return (x_train, y_train), (x_test, y_test)"
   ]
  },
  {
   "cell_type": "code",
   "execution_count": 7,
   "metadata": {},
   "outputs": [],
   "source": [
    "# **NOTE:** This only works with an internet connection\n",
    "#\n",
    "# mnist = tf.keras.datasets.mnist\n",
    "# (train_images, train_labels), (test_images, test_labels) = mnist.load_data()\n",
    "\n",
    "(train_images, train_labels), (test_images, test_labels) = load_data()"
   ]
  },
  {
   "cell_type": "markdown",
   "metadata": {},
   "source": [
    "We have now 4 numpy arrays `train_images`, `train_labels`, `test_images`, and `test_labels`. \n",
    "The shapes of those arrays follows:"
   ]
  },
  {
   "cell_type": "code",
   "execution_count": 8,
   "metadata": {},
   "outputs": [
    {
     "data": {
      "text/plain": [
       "(60000, 28, 28)"
      ]
     },
     "execution_count": 8,
     "metadata": {},
     "output_type": "execute_result"
    }
   ],
   "source": [
    "train_images.shape\n",
    "#print(train_images[0,:,:])"
   ]
  },
  {
   "cell_type": "code",
   "execution_count": 9,
   "metadata": {},
   "outputs": [
    {
     "data": {
      "text/plain": [
       "(10000, 28, 28)"
      ]
     },
     "execution_count": 9,
     "metadata": {},
     "output_type": "execute_result"
    }
   ],
   "source": [
    "test_images.shape"
   ]
  },
  {
   "cell_type": "code",
   "execution_count": 10,
   "metadata": {},
   "outputs": [
    {
     "name": "stdout",
     "output_type": "stream",
     "text": [
      "5\n"
     ]
    }
   ],
   "source": [
    "train_labels.shape\n",
    "print(train_labels[0])"
   ]
  },
  {
   "cell_type": "code",
   "execution_count": 11,
   "metadata": {},
   "outputs": [
    {
     "data": {
      "text/plain": [
       "(10000,)"
      ]
     },
     "execution_count": 11,
     "metadata": {},
     "output_type": "execute_result"
    }
   ],
   "source": [
    "test_labels.shape"
   ]
  },
  {
   "cell_type": "markdown",
   "metadata": {},
   "source": [
    "It will be pointless to look at all those images but we can have a peek into how they look for a small sample of them."
   ]
  },
  {
   "cell_type": "code",
   "execution_count": 12,
   "metadata": {},
   "outputs": [
    {
     "data": {
      "image/png": "[encoded data removed]",
      "text/plain": [
       "<Figure size 1200x600 with 18 Axes>"
      ]
     },
     "metadata": {},
     "output_type": "display_data"
    }
   ],
   "source": [
    "N=3\n",
    "M=6\n",
    "fig, axs = plt.subplots(N,M,sharex=True, sharey=True, figsize=(12,6))\n",
    "for i in range(N):\n",
    "    for j in range(M):\n",
    "        axs[i,j].imshow(test_images[N*j+i], cmap='gray', interpolation='none')"
   ]
  },
  {
   "cell_type": "markdown",
   "metadata": {},
   "source": [
    "Each image is a $28 \\times 28$ grayscale bitmap. Let's see one of them"
   ]
  },
  {
   "cell_type": "code",
   "execution_count": 13,
   "metadata": {},
   "outputs": [
    {
     "data": {
      "text/plain": [
       "28"
      ]
     },
     "execution_count": 13,
     "metadata": {},
     "output_type": "execute_result"
    }
   ],
   "source": [
    "test_images[0].shape[0]"
   ]
  },
  {
   "cell_type": "code",
   "execution_count": 14,
   "metadata": {},
   "outputs": [
    {
     "data": {
      "image/png": "[encoded data removed]",
      "text/plain": [
       "<Figure size 1850x1050 with 1 Axes>"
      ]
     },
     "metadata": {},
     "output_type": "display_data"
    }
   ],
   "source": [
    "image_num=15\n",
    "plt.gcf().set_size_inches(18.5, 10.5)\n",
    "plt.imshow(test_images[image_num], cmap='gray', interpolation='none')\n",
    "plt.title(r'Digit ${}$'.format(test_labels[image_num]));\n",
    "for i in range(test_images[image_num].shape[0]):\n",
    "    for j in range(test_images[image_num].shape[1]):\n",
    "        if test_images[image_num][i][j]<128:\n",
    "            fontcolor='white'\n",
    "        else:\n",
    "            fontcolor='black'\n",
    "        plt.text(j,i,str(test_images[image_num][i][j]),color=fontcolor, \n",
    "                 horizontalalignment='center',\n",
    "                 verticalalignment='center')"
   ]
  },
  {
   "cell_type": "markdown",
   "metadata": {},
   "source": [
    "## Transforming the images into a 1-D vector\n",
    "\n",
    "Our first task is to work out the simplest possible Neural Network model just to show how the TensorFlow framework functions. Then we will gradually implement our way to a quite sophisticated and accurate convolutional neural network for this same problem. \n",
    "\n",
    "First, we need to convert the images into 1D vectors. In NumPy that is called a `reshape`. The data is the same, but it now looks like $60000 \\times 784$ array instead of the $60000 \\times 28 \\times 28$.\n",
    "\n",
    "Another, change is to convert the original values of the array from integers into floating point numbers and divide those by 255 to get a value *normalized* between $0$ and $1$. This is a convenience as many Deep Learning models work better with values in small ranges."
   ]
  },
  {
   "cell_type": "code",
   "execution_count": 15,
   "metadata": {},
   "outputs": [
    {
     "name": "stdout",
     "output_type": "stream",
     "text": [
      "(60000, 784)\n"
     ]
    }
   ],
   "source": [
    "train_images = train_images.reshape(60000, 784) \n",
    "print(train_images.shape)\n",
    "test_images = test_images.reshape(10000, 784)\n",
    "test_images = test_images.astype('float32') \n",
    "train_images = train_images.astype('float32')\n",
    "test_images /= 255 \n",
    "train_images /= 255"
   ]
  },
  {
   "cell_type": "markdown",
   "metadata": {},
   "source": [
    "## Defining the model, our first Dense Neural Network\n",
    "\n",
    "It is time to design the model. Models in Keras (tensorflow) are defined as a sequence of layers. \n",
    "\n",
    "We create a Sequential model and add layers one at a time until we are happy with our network architecture. The first thing to get right is to ensure the input layer has the correct number of input features. This can be specified when creating the first layer with the input_shape argument and setting it to (784,) for presenting the 784 input variables as a vector.\n",
    "\n",
    "We want the network to take $784$ values in the input and feed with them the first layer of $64$ neurons which in turn feed another layer of $64$ to finalize with another layer of $10$. For the activation functions, we will use **ReLU** the function that we saw before. \n",
    "\n",
    "Like this\n",
    "\n",
    "<div>\n",
    "    <br>\n",
    "  <table>\n",
    "  <tr>\n",
    "    <th><img src=\"./fig/NN_Basic.png\" width=\"600\" /></th>\n",
    "  </tr>\n",
    "  </table>\n",
    "</div>      \n",
    "\n",
    "\n",
    "\n",
    "\n"
   ]
  },
  {
   "cell_type": "code",
   "execution_count": 16,
   "metadata": {},
   "outputs": [],
   "source": [
    "model = tf.keras.Sequential([\n",
    "            tf.keras.layers.Dense(64, activation='relu', input_shape=(784,)), \n",
    "            tf.keras.layers.Dense(64, activation='relu'), \n",
    "            tf.keras.layers.Dense(10, activation='softmax'),\n",
    "])\n",
    "\n",
    "# a different method would be \n",
    "\n",
    "#  model = Sequential()\n",
    "#  model.add(Dense(64, activation='relu', input_shape=(884,)))\n",
    "# ....\n",
    "#  model.summary()\n"
   ]
  },
  {
   "cell_type": "code",
   "execution_count": null,
   "metadata": {},
   "outputs": [],
   "source": [
    "model.summary()"
   ]
  },
  {
   "cell_type": "markdown",
   "metadata": {},
   "source": [
    "### Softmax activation"
   ]
  },
  {
   "cell_type": "markdown",
   "metadata": {},
   "source": [
    "The final activation function will be a **softmax**. Softmax is a mathematical function that converts a vector of numbers into a vector of probabilities, where the probabilities of each value are proportional to the relative scale of each value in the vector. Therefore, the function **softmax** will return 10 values where the sum of them is 1. They will indicate the probability of each input to be associated to one of the 10 digits (multiclass classification problem). \n",
    "\n",
    "The standard (unit) softmax function $\\sigma : \\mathbb{R}^K\\to (0,1)^K$ is defined $K>1$ by the formula\n",
    "\n",
    "$$\\sigma(\\mathbf{z})_i = \\frac{e^{z_i}}{\\sum_{j=1}^K e^{z_j}} \\ \\ \\ \\ \\text{ for } i = 1, \\dotsc , K \\text{ and } \\mathbf z=(z_1,\\dotsc,z_K) \\in \\mathbb{R}^K.$$\n",
    "\n",
    "In our case, $K=10$ and **softmax** is exactly the function we need to classify the digits.\n",
    "\n",
    "In simple terms, **softmax** applies an exponential to each element $z_i$ of the vector $\\mathbf z$ and normalizes these values by dividing by the sum of all these exponentials; this normalization ensures that the sum of the components of the output vector $\\sigma(\\mathbf z)$ is 1. This is the reason why we can take the output as the probability of the input image being any of the 10 digits.\n",
    "\n",
    "There is another advantage of using softmax. The values returned at the end of the last layer could be of all sorts, negative values, large and small. softmax reduces all that to all positive, less than 1 set of values. \n",
    "See the table below for some examples:"
   ]
  },
  {
   "cell_type": "code",
   "execution_count": null,
   "metadata": {},
   "outputs": [],
   "source": [
    "z = np.array([ 8.1, -17.5, 10.6, 1.2, -1.5, 13.9,  -3.4, -5.4, 0.05, -2.0])"
   ]
  },
  {
   "cell_type": "code",
   "execution_count": null,
   "metadata": {},
   "outputs": [],
   "source": [
    "exp_z=np.exp(z)\n",
    "exp_z"
   ]
  },
  {
   "cell_type": "code",
   "execution_count": null,
   "metadata": {},
   "outputs": [],
   "source": [
    "sm_z=np.exp(z)/np.sum(np.exp(z))\n",
    "sm_z"
   ]
  },
  {
   "cell_type": "code",
   "execution_count": null,
   "metadata": {},
   "outputs": [],
   "source": [
    "np.sum(np.exp(z)/np.sum(np.exp(z)))"
   ]
  },
  {
   "cell_type": "code",
   "execution_count": null,
   "metadata": {},
   "outputs": [],
   "source": [
    "for i in range(10):\n",
    "    print('|{:d}|{:.3f}|{:.3e}|{:.3e}|'.format(i,z[i],exp_z[i],sm_z[i]))"
   ]
  },
  {
   "cell_type": "markdown",
   "metadata": {},
   "source": [
    "| Digit | Ouptut |Exponential | Normalized |\n",
    "| --- | --- | --- | --- |\n",
    "|0|8.100|3.294e+03|2.911e-03|\n",
    "|1|-17.500|2.511e-08|2.219e-14|\n",
    "|2|10.600|4.013e+04|3.547e-02|\n",
    "|3|1.200|3.320e+00|2.934e-06|\n",
    "|4|-1.500|2.231e-01|1.972e-07|\n",
    "|5|13.900|1.088e+06|9.616e-01|\n",
    "|6|-3.400|3.337e-02|2.949e-08|\n",
    "|7|-5.400|4.517e-03|3.991e-09|\n",
    "|8|0.050|1.051e+00|9.290e-07|\n",
    "|9|-2.000|1.353e-01|1.196e-07|"
   ]
  },
  {
   "cell_type": "code",
   "execution_count": 17,
   "metadata": {},
   "outputs": [
    {
     "ename": "NameError",
     "evalue": "name 'sm_z' is not defined",
     "output_type": "error",
     "traceback": [
      "\u001b[0;31m---------------------------------------------------------------------------\u001b[0m",
      "\u001b[0;31mNameError\u001b[0m                                 Traceback (most recent call last)",
      "Cell \u001b[0;32mIn[17], line 2\u001b[0m\n\u001b[1;32m      1\u001b[0m names \u001b[38;5;241m=\u001b[39m [ \u001b[38;5;28mstr\u001b[39m(x) \u001b[38;5;28;01mfor\u001b[39;00m x \u001b[38;5;129;01min\u001b[39;00m np\u001b[38;5;241m.\u001b[39marange(\u001b[38;5;241m10\u001b[39m)]\n\u001b[0;32m----> 2\u001b[0m values \u001b[38;5;241m=\u001b[39m \u001b[43msm_z\u001b[49m\n\u001b[1;32m      4\u001b[0m plt\u001b[38;5;241m.\u001b[39mfigure(figsize\u001b[38;5;241m=\u001b[39m(\u001b[38;5;241m12\u001b[39m, \u001b[38;5;241m6\u001b[39m))\n\u001b[1;32m      5\u001b[0m plt\u001b[38;5;241m.\u001b[39msubplot(\u001b[38;5;241m211\u001b[39m)\n",
      "\u001b[0;31mNameError\u001b[0m: name 'sm_z' is not defined"
     ]
    }
   ],
   "source": [
    "names = [ str(x) for x in np.arange(10)]\n",
    "values = sm_z\n",
    "\n",
    "plt.figure(figsize=(12, 6))\n",
    "plt.subplot(211)\n",
    "plt.bar(names, values, log=False);\n",
    "plt.subplot(212)\n",
    "plt.bar(names, values, log=True);"
   ]
  },
  {
   "cell_type": "markdown",
   "metadata": {},
   "source": [
    "## Compiling the model, defining the backpropagation optimizer, loss function, and metrics"
   ]
  },
  {
   "cell_type": "markdown",
   "metadata": {},
   "source": [
    "TensorFlow will use the arguments of the `compile` method to organize the procedure that will use to adjust the weights and biases. The values that control the output of our neural network. The optimizer `adam` is a usual choice for many Deep Learning problems. \n",
    "\n",
    "While training the deep learning optimizers model, we need to modify each epoch’s weights and minimize the loss function. An optimizer is a function or an algorithm that modifies the attributes of the neural network, such as weights and learning rate. Thus, it helps in reducing the overall loss and improve the accuracy. The problem of choosing the right weights for the model is a daunting task, as a deep learning model generally consists of millions of parameters. It raises the need to choose a suitable optimization algorithm for your application. Hence understanding these algorithms is necessary before having a deep dive into the field.\n",
    "\n",
    "\n",
    "`sparse_categorical_crossentropy` is often used in classification problems like this. Using `accuracy` is a good metric knowing that we have a perfect balance between all the digits present in the dataset."
   ]
  },
  {
   "cell_type": "code",
   "execution_count": 18,
   "metadata": {},
   "outputs": [],
   "source": [
    "model.compile(optimizer='adam', loss='sparse_categorical_crossentropy', metrics=['accuracy'])"
   ]
  },
  {
   "cell_type": "markdown",
   "metadata": {},
   "source": [
    "### Optimizers\n",
    "\n",
    "Optimizers are the methods used to \"change\" the values of the weights and biases in order to reduce the losses. Let me name few:\n",
    "\n",
    "#### Gradient Descent\n",
    "\n",
    "Gradient Descent is the most basic but most used optimization algorithm. As we discussed before, backpropagation  uses a gradient descent algorithm. With the ingredient that gradient descent is a first-order optimization algorithm which is dependent on the first order derivative of a loss function. It calculates that which way the weights should be altered so that the function can reach a minima. As discussed before, through backpropagation, the loss is transferred from one layer to another and the model’s parameters also known as weights are modified depending on the losses so that the loss can be minimized.\n",
    "\n",
    "The possible problems are:\n",
    "\n",
    "+ It can get trap in a local minima\n",
    "+ As weights are recalculated for each element of the datasat, if the dataset is very large, this can take a lot of computational effort.\n",
    "+ It could requiere a lot of memory to calculate over the whole dataset.\n",
    "\n",
    "\n",
    "#### Stochastic Gradient Descent\n",
    "\n",
    "A chosen number of elements in the dataset are selected and the model parameters are updated by using only this \"random set\" using the Gradient descent.\n",
    "\n",
    "Problems:\n",
    "\n",
    "+ Depending on the dataset, it can have high dispersion over the model parameters\n",
    "+ As it is random, it can over shoot the solution when you try to go to the global minima\n",
    "+ A solution is to reduce slowly the learning rate but you need to know how.\n",
    "\n",
    "#### Momentum\n",
    "\n",
    "It tries to improve over SGD by accelerating the convergence towards the relevant direction and reduces the fluctation in the irrelevant directions.  A new parameter is introduced, $\\gamma$ which usually takes values between 0.7-0.9.\n",
    "\n",
    "The way it works is by computing $\\mathbf{V}(t)=\\gamma \\mathbf{V}(t−1)+ \\eta \\nabla \\mathcal{L} (\\mathbf{W})$ and with this new quantity, the weights are updated by $W=W-\\mathbf{V}$.\n",
    "\n",
    "#### Adagrad\n",
    "\n",
    "In this optimizer, the learning rate also changes for each parameter and at each iteration. It works on the derivative of an error function.\n",
    "\n",
    "#### AdaDelta\n",
    "\n",
    "It is an extension of AdaGrad which tends to remove the decaying learning Rate problem of it. Instead of accumulating all previously squared gradients, Adadelta limits the window of accumulated past gradients to some fixed size $\\omega$. \n",
    "\n",
    "#### Adam (Adaptive Moment Estimation) \n",
    "\n",
    "It works with momentums of first and second order. The intuition behind the Adam is that we don’t want to roll so fast just because we can jump over the minimum, we want to decrease the velocity a little bit for a careful search.\n",
    "\n",
    "### Metrics for evaluation of the NN\n",
    "\n",
    "Taken from https://towardsdatascience.com/metrics-to-evaluate-your-machine-learning-algorithm-f10ba6e38234\n",
    "\n",
    "#### Classification Accuracy\n",
    "\n",
    "$\\text{Accuracy} = \\frac{\\text{Number of correct predictions}}{\\text{Total number of predictions made}}$\n",
    "\n",
    "Classification Accuracy is great, but gives us the false sense of achieving high accuracy.\n",
    "\n",
    "#### Logarithmic Loss\n",
    "\n",
    "Logarithmic Loss or Log Loss, works by penalising the false classifications. It works well for multi-class classification.When working with Log Loss, the classifier must assign probability to each class for all the samples. Suppose, there are N samples belonging to M classes, then the Log Loss is calculated as below\n",
    "\n",
    "$\\text{LogarithmicLoss} = \\frac{-1}{N} \\sum_{i=1}^N \\sum_{j=1}^M y_{ij} \\log p_{ij}$\n",
    "\n",
    "$y_ij$, indicates whether sample i belongs to class j or not\n",
    "\n",
    "$p_ij$, indicates the probability of sample i belonging to class j\n",
    "\n",
    "Log Loss nearer to 0 indicates higher accuracy, whereas if the Log Loss is away from 0 then it indicates lower accuracy. In general, minimising Log Loss gives greater accuracy for the classifier.\n",
    "\n",
    "#### Confusion Matrix\n",
    "\n",
    "Confusion Matrix as the name suggests gives us a matrix as output and describes the complete performance of the model.\n",
    "\n",
    "There are 4 important terms :\n",
    "\n",
    "True Positives : The cases in which we predicted YES and the actual output was also YES.\n",
    "\n",
    "True Negatives : The cases in which we predicted NO and the actual output was NO.\n",
    "\n",
    "False Positives : The cases in which we predicted YES and the actual output was NO.\n",
    "\n",
    "False Negatives : The cases in which we predicted NO and the actual output was YES.\n",
    "\n",
    "Accuracy for the matrix can be calculated by taking average of the values lying across the “main diagonal”\n",
    "\n",
    "$\\frac{TruePositive+TrueNegative}{TotalSample}$\n",
    "\n",
    "#### F1 Score\n",
    "\n",
    "F1 Score is used to measure a test’s accuracy. F1 Score is the Harmonic Mean between precision and recall. The range for F1 Score is $[0, 1]$. It tells you how precise your classifier is (how many instances it classifies correctly), as well as how robust it is (it does not miss a significant number of instances).\n",
    "High precision but lower recall, gives you an extremely accurate, but it then misses a large number of instances that are difficult to classify. The greater the F1 Score, the better is the performance of our model. Mathematically, it can be expressed as :\n",
    "\n",
    "$F1=2 \\cdot \\frac{1}{\\frac{1}{precision}+\\frac{1}{recall}}$\n",
    "\n",
    "\n",
    "F1 Score tries to find the balance between precision and recall.\n",
    "\n",
    "\n",
    "Precision : It is the number of correct positive results divided by the number of positive results predicted by the classifier.\n",
    "\n",
    "\n",
    "Recall : It is the number of correct positive results divided by the number of all relevant samples (all samples that should have been identified as positive).\n",
    "\n",
    "\n"
   ]
  },
  {
   "cell_type": "markdown",
   "metadata": {},
   "source": [
    "### Cross Entropy Loss function\n",
    "\n",
    "The loss function is the function that we try to minimize and should account for measuring a distance between the desired value and the value returned from the network under current weights and biases.\n",
    "\n",
    "Given the very particular and sensible way we have constructed these outputs.\n",
    "\n",
    "We could be using the Root Mean Square (RMS) as a loss function. The RMS defined as\n",
    "\n",
    "$$\\text{loss}_\\text{RMS} = \\sqrt{\\frac{1}{n} \\sum_{i=1}^n \\left(y_i - y_i^{obj} \\right)^2 }$$.\n",
    "\n",
    "Where $y_i$ are the values obtained from the neural network and $y_i^{obj}$ and the values objective. \n",
    "This function is not a good idea for our case. See on the figure above that except for 1 value all the others are very small, it will be hard for an algorithm to know how in which direction to change the parameters when all produce such small values. We need somehow a way to undo the flattening of the **softmax**.\n",
    "\n",
    "The Cross-Entropy Loss function is a good way to define the error across all possibilities. As we have seen, softmax converts logits into probabilities. The purpose of the Cross-Entropy is to take the output probabilities (P) and measure the distance from the truth values. Better than RMS. \n",
    "The Cross entropy function is defined as (for $n$ classes):\n",
    "\n",
    "$$\\text{loss}_\\text{CE} =  - \\sum_{i=1}^n y_i^{obj} \\log y_i$$\n",
    "\n",
    "Let's assume that in our case above, we are indeed in the presence of a digit $5$.\n",
    "The value of $y^{obj}$ will be:"
   ]
  },
  {
   "cell_type": "code",
   "execution_count": null,
   "metadata": {},
   "outputs": [],
   "source": [
    "y_obj=np.zeros(10)\n",
    "y_obj[5]=1\n",
    "y_obj"
   ]
  },
  {
   "cell_type": "markdown",
   "metadata": {},
   "source": [
    "Our neural network returned these values after the softmax:"
   ]
  },
  {
   "cell_type": "code",
   "execution_count": null,
   "metadata": {},
   "outputs": [],
   "source": [
    "sm_z"
   ]
  },
  {
   "cell_type": "markdown",
   "metadata": {},
   "source": [
    "Let's compute the loss function using the equation above:"
   ]
  },
  {
   "cell_type": "code",
   "execution_count": null,
   "metadata": {},
   "outputs": [],
   "source": [
    "np.log(sm_z)"
   ]
  },
  {
   "cell_type": "code",
   "execution_count": null,
   "metadata": {},
   "outputs": [],
   "source": [
    "-np.dot(y_obj,np.log(sm_z))"
   ]
  },
  {
   "cell_type": "markdown",
   "metadata": {},
   "source": [
    "This is the value of our loss. This is the value that we want to minimize."
   ]
  },
  {
   "cell_type": "markdown",
   "metadata": {},
   "source": [
    "## Fitting the model\n",
    "\n",
    "Here is where the real processing takes place, the values of weights and biases are changed using the examples provided from the `train_images` and `train_labels`. This is a very high-level routine that is also capable of validating the model with the `test_images` and `test_labels`.\n",
    "\n",
    "Before we launch, let me define some language used in this topic:\n",
    "\n",
    "A sample is a single row of data.\n",
    "\n",
    "The batch size is a hyperparameter that defines the number of samples to work through before updating the internal model parameters. Batch Gradient Descent: Batch Size = Size of Training Set. Stochastic Gradient Descent: Batch Size = 1. Mini-Batch Gradient Descent: 1 < Batch Size < Size of Training Set.\n",
    "\n",
    "The number of epochs is a hyperparameter that defines the number times that the learning algorithm will work through the entire training dataset.\n",
    "\n",
    "Therefore, each time a dataset passes through an algorithm, it is said to have completed an epoch (one entire passing of training data through the algorithm). The training data is always broken down into small batches\n",
    "\n",
    "We will understand later on how mathematical procedures are used to find the weights and biases until our network return correct answers for the images both in our training and test sets.\n",
    "\n",
    "This is a very small problem so you can train this model on a modern computer in a couple of minutes."
   ]
  },
  {
   "cell_type": "code",
   "execution_count": 19,
   "metadata": {},
   "outputs": [
    {
     "name": "stdout",
     "output_type": "stream",
     "text": [
      "(60000, 784)\n"
     ]
    }
   ],
   "source": [
    "print(train_images.shape)"
   ]
  },
  {
   "cell_type": "code",
   "execution_count": 20,
   "metadata": {
    "scrolled": false
   },
   "outputs": [
    {
     "name": "stdout",
     "output_type": "stream",
     "text": [
      "Epoch 1/20\n"
     ]
    },
    {
     "name": "stderr",
     "output_type": "stream",
     "text": [
      "2023-02-14 18:07:18.295504: W tensorflow/tsl/platform/profile_utils/cpu_utils.cc:128] Failed to get CPU frequency: 0 Hz\n"
     ]
    },
    {
     "name": "stdout",
     "output_type": "stream",
     "text": [
      "469/469 [==============================] - 1s 1ms/step - loss: 0.3954 - accuracy: 0.8881 - val_loss: 0.2099 - val_accuracy: 0.9374\n",
      "Epoch 2/20\n",
      "469/469 [==============================] - 1s 1ms/step - loss: 0.1674 - accuracy: 0.9502 - val_loss: 0.1403 - val_accuracy: 0.9569\n",
      "Epoch 3/20\n",
      "469/469 [==============================] - 1s 1ms/step - loss: 0.1220 - accuracy: 0.9635 - val_loss: 0.1173 - val_accuracy: 0.9629\n",
      "Epoch 4/20\n",
      "469/469 [==============================] - 1s 1ms/step - loss: 0.0962 - accuracy: 0.9710 - val_loss: 0.1083 - val_accuracy: 0.9674\n",
      "Epoch 5/20\n",
      "469/469 [==============================] - 1s 1ms/step - loss: 0.0793 - accuracy: 0.9760 - val_loss: 0.1093 - val_accuracy: 0.9659\n",
      "Epoch 6/20\n",
      "469/469 [==============================] - 1s 1ms/step - loss: 0.0670 - accuracy: 0.9795 - val_loss: 0.0917 - val_accuracy: 0.9724\n",
      "Epoch 7/20\n",
      "469/469 [==============================] - 1s 1ms/step - loss: 0.0577 - accuracy: 0.9825 - val_loss: 0.0855 - val_accuracy: 0.9754\n",
      "Epoch 8/20\n",
      "469/469 [==============================] - 1s 1ms/step - loss: 0.0491 - accuracy: 0.9850 - val_loss: 0.0866 - val_accuracy: 0.9729\n",
      "Epoch 9/20\n",
      "469/469 [==============================] - 1s 1ms/step - loss: 0.0432 - accuracy: 0.9865 - val_loss: 0.0934 - val_accuracy: 0.9732\n",
      "Epoch 10/20\n",
      "469/469 [==============================] - 1s 1ms/step - loss: 0.0374 - accuracy: 0.9885 - val_loss: 0.0929 - val_accuracy: 0.9726\n",
      "Epoch 11/20\n",
      "469/469 [==============================] - 1s 1ms/step - loss: 0.0327 - accuracy: 0.9896 - val_loss: 0.0901 - val_accuracy: 0.9730\n",
      "Epoch 12/20\n",
      "469/469 [==============================] - 1s 1ms/step - loss: 0.0291 - accuracy: 0.9912 - val_loss: 0.0886 - val_accuracy: 0.9753\n",
      "Epoch 13/20\n",
      "469/469 [==============================] - 1s 1ms/step - loss: 0.0260 - accuracy: 0.9918 - val_loss: 0.0878 - val_accuracy: 0.9759\n",
      "Epoch 14/20\n",
      "469/469 [==============================] - 1s 1ms/step - loss: 0.0213 - accuracy: 0.9933 - val_loss: 0.0903 - val_accuracy: 0.9761\n",
      "Epoch 15/20\n",
      "469/469 [==============================] - 1s 1ms/step - loss: 0.0202 - accuracy: 0.9942 - val_loss: 0.0914 - val_accuracy: 0.9761\n",
      "Epoch 16/20\n",
      "469/469 [==============================] - 1s 1ms/step - loss: 0.0175 - accuracy: 0.9949 - val_loss: 0.0943 - val_accuracy: 0.9764\n",
      "Epoch 17/20\n",
      "469/469 [==============================] - 1s 1ms/step - loss: 0.0147 - accuracy: 0.9960 - val_loss: 0.0963 - val_accuracy: 0.9752\n",
      "Epoch 18/20\n",
      "469/469 [==============================] - 1s 1ms/step - loss: 0.0136 - accuracy: 0.9960 - val_loss: 0.1083 - val_accuracy: 0.9729\n",
      "Epoch 19/20\n",
      "469/469 [==============================] - 1s 1ms/step - loss: 0.0136 - accuracy: 0.9959 - val_loss: 0.1090 - val_accuracy: 0.9754\n",
      "Epoch 20/20\n",
      "469/469 [==============================] - 1s 1ms/step - loss: 0.0133 - accuracy: 0.9959 - val_loss: 0.1107 - val_accuracy: 0.9736\n"
     ]
    }
   ],
   "source": [
    "hist_dnn1 = model.fit(train_images, \n",
    "                    train_labels, \n",
    "                    batch_size=128, \n",
    "                    epochs=int(epoch_reduction_factor*40), \n",
    "                    verbose=1, \n",
    "                    validation_data=(test_images, test_labels))"
   ]
  },
  {
   "cell_type": "markdown",
   "metadata": {},
   "source": [
    "## Measuring accuracy and loss. The curse of overfitting\n",
    "\n",
    "At the end of $40$ cycles with the training data we got an accuracy of $0.9991$. Very good at least for the training set. \n",
    "\n",
    "However, when we measure the accuracy with the test set. The set of data **unseen** by the model during the fitting the value is reduced to $0.97$.\n",
    "\n",
    "Somehow, our neural network is learning to produce the right results for the values that it knows, but is not as good for the values that have not seen. This is called **overfitting** and to measure it we had to separate the $10000$ examples that we called `test_images` and `test_labels`."
   ]
  },
  {
   "cell_type": "code",
   "execution_count": 21,
   "metadata": {},
   "outputs": [],
   "source": [
    "def plot_accuracy(history):\n",
    "    plt.figure(figsize=(12, 6))\n",
    "    plt.plot(history.history['accuracy'],'o-')\n",
    "    plt.plot(history.history['val_accuracy'],'o-')\n",
    "    plt.title('Model accuracy')\n",
    "    plt.ylabel('Accuracy')\n",
    "    plt.xlabel('Epoch')\n",
    "    plt.legend(['Train', 'Test'], loc='upper left');"
   ]
  },
  {
   "cell_type": "code",
   "execution_count": 22,
   "metadata": {},
   "outputs": [
    {
     "data": {
      "image/png": "[encoded data removed]",
      "text/plain": [
       "<Figure size 1200x600 with 1 Axes>"
      ]
     },
     "metadata": {},
     "output_type": "display_data"
    }
   ],
   "source": [
    "plot_accuracy(hist_dnn1);"
   ]
  },
  {
   "cell_type": "markdown",
   "metadata": {},
   "source": [
    "The goal of deep learning models is to generalize well with the help of training data to any data from the problem domain. This is very crucial since we want our model to make predictions on the unseen dataset i.e, it has never seen before.\n",
    "\n",
    "A similar picture we get from the loss function. Notice that we plot the figure below using a semilog plot.\n",
    "The value of the loss function is decreasing, with some degradations beyond epoch 15.\n",
    "\n",
    "However, it is remarkable that even beyond epoch 4, the loss function is not improving with the test set. It is going up over time. Another sign of **overfitting**. \n",
    "\n",
    "In Overfitting, the model tries to learn too many details in the training data along with the noise from the training data. As a result, the model performance is very poor on unseen or test datasets. Therefore, the network fails to generalize the features or patterns present in the training dataset."
   ]
  },
  {
   "cell_type": "code",
   "execution_count": 23,
   "metadata": {},
   "outputs": [],
   "source": [
    "def plot_loss(history):\n",
    "    plt.figure(figsize=(12, 6))\n",
    "    plt.semilogy(history.history['loss'],'o-')\n",
    "    plt.semilogy(history.history['val_loss'],'o-')\n",
    "    plt.title('Model loss')\n",
    "    plt.ylabel('Loss')\n",
    "    plt.xlabel('Epoch')\n",
    "    plt.legend(['Train', 'Test'], loc='upper left');"
   ]
  },
  {
   "cell_type": "code",
   "execution_count": 24,
   "metadata": {},
   "outputs": [
    {
     "data": {
      "image/png": "[encoded data removed]",
      "text/plain": [
       "<Figure size 1200x600 with 1 Axes>"
      ]
     },
     "metadata": {},
     "output_type": "display_data"
    }
   ],
   "source": [
    "plot_loss(hist_dnn1);"
   ]
  },
  {
   "cell_type": "markdown",
   "metadata": {},
   "source": [
    "Let's see if you can do better. Still, with the idea of a dense neural network, there are two things we can try.\n",
    "Making the networks thicker or make them deeper. \n",
    "\n",
    "Let's see how far we can go with these options."
   ]
  },
  {
   "cell_type": "markdown",
   "metadata": {},
   "source": [
    "## Thicker Neural Network\n",
    "\n",
    "In our first network, we use a couple of layers with $64$ neurons in them. What about doubling that figure to $128$?\n",
    "We can think that with more neurons there are more parameters and those extra parameters will offer a richer landscape for optimizing better the weights.\n",
    "\n",
    "As many things in Deep Learning and science in general, arguments, no matter how beautiful ones can be beaten by ugly facts. "
   ]
  },
  {
   "cell_type": "code",
   "execution_count": 25,
   "metadata": {},
   "outputs": [],
   "source": [
    "model = tf.keras.Sequential([\n",
    "            tf.keras.layers.Dense(128, activation='relu', input_shape=(784,)), \n",
    "            tf.keras.layers.Dense(128, activation='relu'), \n",
    "            tf.keras.layers.Dense(10, activation='softmax'),\n",
    "])"
   ]
  },
  {
   "cell_type": "code",
   "execution_count": 26,
   "metadata": {},
   "outputs": [
    {
     "name": "stdout",
     "output_type": "stream",
     "text": [
      "Model: \"sequential_1\"\n",
      "_________________________________________________________________\n",
      " Layer (type)                Output Shape              Param #   \n",
      "=================================================================\n",
      " dense_3 (Dense)             (None, 128)               100480    \n",
      "                                                                 \n",
      " dense_4 (Dense)             (None, 128)               16512     \n",
      "                                                                 \n",
      " dense_5 (Dense)             (None, 10)                1290      \n",
      "                                                                 \n",
      "=================================================================\n",
      "Total params: 118,282\n",
      "Trainable params: 118,282\n",
      "Non-trainable params: 0\n",
      "_________________________________________________________________\n"
     ]
    }
   ],
   "source": [
    "model.summary()"
   ]
  },
  {
   "cell_type": "code",
   "execution_count": 27,
   "metadata": {},
   "outputs": [],
   "source": [
    "model.compile(optimizer='adam', loss='sparse_categorical_crossentropy', metrics=['accuracy'])"
   ]
  },
  {
   "cell_type": "code",
   "execution_count": 28,
   "metadata": {
    "scrolled": false
   },
   "outputs": [
    {
     "name": "stdout",
     "output_type": "stream",
     "text": [
      "Epoch 1/20\n",
      "469/469 [==============================] - 1s 2ms/step - loss: 0.3135 - accuracy: 0.9115 - val_loss: 0.1465 - val_accuracy: 0.9565\n",
      "Epoch 2/20\n",
      "469/469 [==============================] - 1s 2ms/step - loss: 0.1227 - accuracy: 0.9639 - val_loss: 0.1174 - val_accuracy: 0.9639\n",
      "Epoch 3/20\n",
      "469/469 [==============================] - 1s 2ms/step - loss: 0.0848 - accuracy: 0.9743 - val_loss: 0.0872 - val_accuracy: 0.9729\n",
      "Epoch 4/20\n",
      "469/469 [==============================] - 1s 2ms/step - loss: 0.0627 - accuracy: 0.9805 - val_loss: 0.0834 - val_accuracy: 0.9741\n",
      "Epoch 5/20\n",
      "469/469 [==============================] - 1s 2ms/step - loss: 0.0486 - accuracy: 0.9848 - val_loss: 0.0920 - val_accuracy: 0.9728\n",
      "Epoch 6/20\n",
      "469/469 [==============================] - 1s 2ms/step - loss: 0.0385 - accuracy: 0.9882 - val_loss: 0.0780 - val_accuracy: 0.9760\n",
      "Epoch 7/20\n",
      "469/469 [==============================] - 1s 2ms/step - loss: 0.0319 - accuracy: 0.9904 - val_loss: 0.0749 - val_accuracy: 0.9787\n",
      "Epoch 8/20\n",
      "469/469 [==============================] - 1s 2ms/step - loss: 0.0241 - accuracy: 0.9927 - val_loss: 0.0767 - val_accuracy: 0.9794\n",
      "Epoch 9/20\n",
      "469/469 [==============================] - 1s 2ms/step - loss: 0.0205 - accuracy: 0.9938 - val_loss: 0.0806 - val_accuracy: 0.9790\n",
      "Epoch 10/20\n",
      "469/469 [==============================] - 1s 2ms/step - loss: 0.0175 - accuracy: 0.9943 - val_loss: 0.0808 - val_accuracy: 0.9796\n",
      "Epoch 11/20\n",
      "469/469 [==============================] - 1s 2ms/step - loss: 0.0164 - accuracy: 0.9949 - val_loss: 0.0886 - val_accuracy: 0.9773\n",
      "Epoch 12/20\n",
      "469/469 [==============================] - 1s 2ms/step - loss: 0.0136 - accuracy: 0.9958 - val_loss: 0.0869 - val_accuracy: 0.9786\n",
      "Epoch 13/20\n",
      "469/469 [==============================] - 1s 2ms/step - loss: 0.0120 - accuracy: 0.9959 - val_loss: 0.0970 - val_accuracy: 0.9781\n",
      "Epoch 14/20\n",
      "469/469 [==============================] - 1s 2ms/step - loss: 0.0092 - accuracy: 0.9972 - val_loss: 0.0957 - val_accuracy: 0.9784\n",
      "Epoch 15/20\n",
      "469/469 [==============================] - 1s 2ms/step - loss: 0.0086 - accuracy: 0.9973 - val_loss: 0.1124 - val_accuracy: 0.9769\n",
      "Epoch 16/20\n",
      "469/469 [==============================] - 1s 2ms/step - loss: 0.0106 - accuracy: 0.9963 - val_loss: 0.1056 - val_accuracy: 0.9776\n",
      "Epoch 17/20\n",
      "469/469 [==============================] - 1s 2ms/step - loss: 0.0107 - accuracy: 0.9966 - val_loss: 0.0976 - val_accuracy: 0.9809\n",
      "Epoch 18/20\n",
      "469/469 [==============================] - 1s 2ms/step - loss: 0.0071 - accuracy: 0.9976 - val_loss: 0.1058 - val_accuracy: 0.9794\n",
      "Epoch 19/20\n",
      "469/469 [==============================] - 1s 2ms/step - loss: 0.0080 - accuracy: 0.9973 - val_loss: 0.1010 - val_accuracy: 0.9787\n",
      "Epoch 20/20\n",
      "469/469 [==============================] - 1s 2ms/step - loss: 0.0071 - accuracy: 0.9977 - val_loss: 0.1146 - val_accuracy: 0.9778\n"
     ]
    }
   ],
   "source": [
    "hist_dnn2 = model.fit(train_images, \n",
    "                    train_labels, \n",
    "                    batch_size=128, \n",
    "                    epochs=int(epoch_reduction_factor*40), \n",
    "                    verbose=1, \n",
    "                    validation_data=(test_images, test_labels))"
   ]
  },
  {
   "cell_type": "code",
   "execution_count": 29,
   "metadata": {},
   "outputs": [
    {
     "data": {
      "image/png": "[encoded data removed]",
      "text/plain": [
       "<Figure size 1200x600 with 1 Axes>"
      ]
     },
     "metadata": {},
     "output_type": "display_data"
    }
   ],
   "source": [
    "plot_accuracy(hist_dnn2);"
   ]
  },
  {
   "cell_type": "code",
   "execution_count": 30,
   "metadata": {},
   "outputs": [
    {
     "data": {
      "image/png": "[encoded data removed]",
      "text/plain": [
       "<Figure size 1200x600 with 1 Axes>"
      ]
     },
     "metadata": {},
     "output_type": "display_data"
    }
   ],
   "source": [
    "plot_loss(hist_dnn2);"
   ]
  },
  {
   "cell_type": "markdown",
   "metadata": {},
   "source": [
    "The result is not indicative that **bigger** is **better**. \n",
    "\n",
    "We double the number of parameters, from 55 thousand to 118 thousand (See the summary of the model).\n",
    "\n",
    "Neither the accuracy for the test set has been better or the loss function for the test set is lower. We are again stuck with unseen cases that are not well learning. \n",
    "Learning is not about memorizing what you see, learning is also about generalization, prospection, conexions.\n",
    "That is true for our human meaning of \"Learning\" and the machine meaning for \"learning\".\n",
    "\n",
    "What about deeper neural networks? "
   ]
  },
  {
   "cell_type": "markdown",
   "metadata": {},
   "source": [
    "## Deeper neural networks"
   ]
  },
  {
   "cell_type": "markdown",
   "metadata": {},
   "source": [
    "Return to our original network, but this time instead we will add a couple of extra layers with $64$ neurons each.\n",
    "Will this network start learning *deeper*?"
   ]
  },
  {
   "cell_type": "code",
   "execution_count": 31,
   "metadata": {},
   "outputs": [],
   "source": [
    "model = tf.keras.Sequential([\n",
    "            tf.keras.layers.Dense(64, activation='relu', input_shape=(784,)), \n",
    "            tf.keras.layers.Dense(64, activation='relu'), \n",
    "            tf.keras.layers.Dense(64, activation='relu'), \n",
    "            tf.keras.layers.Dense(64, activation='relu'), \n",
    "            tf.keras.layers.Dense(10, activation='softmax'),\n",
    "])"
   ]
  },
  {
   "cell_type": "code",
   "execution_count": 32,
   "metadata": {},
   "outputs": [
    {
     "name": "stdout",
     "output_type": "stream",
     "text": [
      "Model: \"sequential_2\"\n",
      "_________________________________________________________________\n",
      " Layer (type)                Output Shape              Param #   \n",
      "=================================================================\n",
      " dense_6 (Dense)             (None, 64)                50240     \n",
      "                                                                 \n",
      " dense_7 (Dense)             (None, 64)                4160      \n",
      "                                                                 \n",
      " dense_8 (Dense)             (None, 64)                4160      \n",
      "                                                                 \n",
      " dense_9 (Dense)             (None, 64)                4160      \n",
      "                                                                 \n",
      " dense_10 (Dense)            (None, 10)                650       \n",
      "                                                                 \n",
      "=================================================================\n",
      "Total params: 63,370\n",
      "Trainable params: 63,370\n",
      "Non-trainable params: 0\n",
      "_________________________________________________________________\n"
     ]
    }
   ],
   "source": [
    "model.summary()"
   ]
  },
  {
   "cell_type": "code",
   "execution_count": 33,
   "metadata": {},
   "outputs": [],
   "source": [
    "model.compile(optimizer='adam', loss='sparse_categorical_crossentropy', metrics=['accuracy'])"
   ]
  },
  {
   "cell_type": "code",
   "execution_count": 34,
   "metadata": {},
   "outputs": [
    {
     "name": "stdout",
     "output_type": "stream",
     "text": [
      "Epoch 1/20\n",
      "469/469 [==============================] - 1s 1ms/step - loss: 0.3885 - accuracy: 0.8833 - val_loss: 0.1880 - val_accuracy: 0.9437\n",
      "Epoch 2/20\n",
      "469/469 [==============================] - 1s 1ms/step - loss: 0.1565 - accuracy: 0.9535 - val_loss: 0.1411 - val_accuracy: 0.9581\n",
      "Epoch 3/20\n",
      "469/469 [==============================] - 1s 1ms/step - loss: 0.1180 - accuracy: 0.9638 - val_loss: 0.1155 - val_accuracy: 0.9644\n",
      "Epoch 4/20\n",
      "469/469 [==============================] - 1s 1ms/step - loss: 0.0942 - accuracy: 0.9721 - val_loss: 0.1092 - val_accuracy: 0.9656\n",
      "Epoch 5/20\n",
      "469/469 [==============================] - 1s 1ms/step - loss: 0.0783 - accuracy: 0.9761 - val_loss: 0.1168 - val_accuracy: 0.9650\n",
      "Epoch 6/20\n",
      "469/469 [==============================] - 1s 1ms/step - loss: 0.0669 - accuracy: 0.9793 - val_loss: 0.0966 - val_accuracy: 0.9691\n",
      "Epoch 7/20\n",
      "469/469 [==============================] - 1s 1ms/step - loss: 0.0573 - accuracy: 0.9818 - val_loss: 0.0920 - val_accuracy: 0.9732\n",
      "Epoch 8/20\n",
      "469/469 [==============================] - 1s 1ms/step - loss: 0.0491 - accuracy: 0.9846 - val_loss: 0.1029 - val_accuracy: 0.9690\n",
      "Epoch 9/20\n",
      "469/469 [==============================] - 1s 1ms/step - loss: 0.0452 - accuracy: 0.9854 - val_loss: 0.0886 - val_accuracy: 0.9743\n",
      "Epoch 10/20\n",
      "469/469 [==============================] - 1s 1ms/step - loss: 0.0411 - accuracy: 0.9865 - val_loss: 0.0928 - val_accuracy: 0.9728\n",
      "Epoch 11/20\n",
      "469/469 [==============================] - 1s 1ms/step - loss: 0.0337 - accuracy: 0.9889 - val_loss: 0.1034 - val_accuracy: 0.9712\n",
      "Epoch 12/20\n",
      "469/469 [==============================] - 1s 1ms/step - loss: 0.0333 - accuracy: 0.9892 - val_loss: 0.0979 - val_accuracy: 0.9713\n",
      "Epoch 13/20\n",
      "469/469 [==============================] - 1s 1ms/step - loss: 0.0302 - accuracy: 0.9902 - val_loss: 0.0943 - val_accuracy: 0.9733\n",
      "Epoch 14/20\n",
      "469/469 [==============================] - 1s 1ms/step - loss: 0.0228 - accuracy: 0.9923 - val_loss: 0.1045 - val_accuracy: 0.9725\n",
      "Epoch 15/20\n",
      "469/469 [==============================] - 1s 1ms/step - loss: 0.0245 - accuracy: 0.9916 - val_loss: 0.1149 - val_accuracy: 0.9703\n",
      "Epoch 16/20\n",
      "469/469 [==============================] - 1s 1ms/step - loss: 0.0228 - accuracy: 0.9926 - val_loss: 0.1287 - val_accuracy: 0.9699\n",
      "Epoch 17/20\n",
      "469/469 [==============================] - 1s 1ms/step - loss: 0.0229 - accuracy: 0.9920 - val_loss: 0.1104 - val_accuracy: 0.9737\n",
      "Epoch 18/20\n",
      "469/469 [==============================] - 1s 1ms/step - loss: 0.0190 - accuracy: 0.9934 - val_loss: 0.1177 - val_accuracy: 0.9746\n",
      "Epoch 19/20\n",
      "469/469 [==============================] - 1s 1ms/step - loss: 0.0180 - accuracy: 0.9941 - val_loss: 0.1251 - val_accuracy: 0.9713\n",
      "Epoch 20/20\n",
      "469/469 [==============================] - 1s 1ms/step - loss: 0.0151 - accuracy: 0.9947 - val_loss: 0.1297 - val_accuracy: 0.9720\n"
     ]
    }
   ],
   "source": [
    "hist_dnn3 = model.fit(train_images, \n",
    "                    train_labels, \n",
    "                    batch_size=128, \n",
    "                    epochs=int(epoch_reduction_factor*40), \n",
    "                    verbose=1, \n",
    "                    validation_data=(test_images, test_labels))"
   ]
  },
  {
   "cell_type": "code",
   "execution_count": 35,
   "metadata": {},
   "outputs": [
    {
     "data": {
      "image/png": "[encoded data removed]",
      "text/plain": [
       "<Figure size 1200x600 with 1 Axes>"
      ]
     },
     "metadata": {},
     "output_type": "display_data"
    }
   ],
   "source": [
    "plot_accuracy(hist_dnn3);"
   ]
  },
  {
   "cell_type": "code",
   "execution_count": 36,
   "metadata": {},
   "outputs": [
    {
     "data": {
      "image/png": "[encoded data removed]",
      "text/plain": [
       "<Figure size 1200x600 with 1 Axes>"
      ]
     },
     "metadata": {},
     "output_type": "display_data"
    }
   ],
   "source": [
    "plot_loss(hist_dnn3);"
   ]
  },
  {
   "cell_type": "markdown",
   "metadata": {},
   "source": [
    "Well, no *thicker* or *deeper* is helping us. With so many parameters, our network is remembering how to answer correctly for the training set but is not learning to generalize the parameters to also answer correctly for unseen images."
   ]
  },
  {
   "cell_type": "markdown",
   "metadata": {},
   "source": [
    "## Quick detour: Overfitting and the art of fitting elephants"
   ]
  },
  {
   "cell_type": "markdown",
   "metadata": {},
   "source": [
    "John von Neumann famously said:"
   ]
  },
  {
   "cell_type": "markdown",
   "metadata": {},
   "source": [
    "*With four parameters I can fit an elephant, and with five I can make him wiggle his trunk.*"
   ]
  },
  {
   "cell_type": "markdown",
   "metadata": {},
   "source": [
    "This is quite appropriate to raise your attention to the risk of adding more parameters that do not improve anything.\n",
    "\n",
    "Here is a realization of von Neumann's quote on a webpage from [John D Cook](https://www.johndcook.com/blog/2011/06/21/how-to-fit-an-elephant/). \n",
    "\n",
    "The original code was created by Piotr A. Zolnierczuk based on the paper:\n",
    "\n",
    "    “Drawing an elephant with four complex parameters” \n",
    "    by Jurgen Mayer, Khaled Khairy, and Jonathon Howard,  \n",
    "    Am. J. Phys. 78, 648 (2010), DOI:10.1119/1.3254017."
   ]
  },
  {
   "cell_type": "code",
   "execution_count": 37,
   "metadata": {},
   "outputs": [
    {
     "data": {
      "image/png": "[encoded data removed]",
      "text/plain": [
       "<Figure size 1200x800 with 1 Axes>"
      ]
     },
     "metadata": {},
     "output_type": "display_data"
    }
   ],
   "source": [
    "\"\"\"\n",
    "Author: Piotr A. Zolnierczuk (zolnierczukp at ornl dot gov)\n",
    "\n",
    "Based on a paper by:\n",
    "Drawing an elephant with four complex parameters\n",
    "Jurgen Mayer, Khaled Khairy, and Jonathon Howard,\n",
    "Am. J. Phys. 78, 648 (2010), DOI:10.1119/1.3254017\n",
    "\"\"\"\n",
    "import numpy as np\n",
    "import pylab\n",
    "\n",
    "# elephant parameters\n",
    "p1, p2, p3, p4 = (50 - 30j, 18 +  8j, 12 - 10j, -14 - 60j )\n",
    "p5 = 40 + 20j # eyepiece\n",
    "\n",
    "def fourier(t, C):\n",
    "    f = np.zeros(t.shape)\n",
    "    A, B = C.real, C.imag\n",
    "    for k in range(len(C)):\n",
    "        f = f + A[k]*np.cos(k*t) + B[k]*np.sin(k*t)\n",
    "    return f\n",
    "\n",
    "def elephant(t, p1, p2, p3, p4, p5):\n",
    "    npar = 6\n",
    "    Cx = np.zeros((npar,), dtype='complex')\n",
    "    Cy = np.zeros((npar,), dtype='complex')\n",
    "\n",
    "    Cx[1] = p1.real*1j\n",
    "    Cx[2] = p2.real*1j\n",
    "    Cx[3] = p3.real\n",
    "    Cx[5] = p4.real\n",
    "\n",
    "    Cy[1] = p4.imag + p1.imag*1j\n",
    "    Cy[2] = p2.imag*1j\n",
    "    Cy[3] = p3.imag*1j\n",
    "\n",
    "    x = np.append(fourier(t,Cx), [-p5.imag])\n",
    "    y = np.append(fourier(t,Cy), [p5.imag])\n",
    "\n",
    "    return x,y\n",
    "\n",
    "plt.figure(figsize=(12, 8))\n",
    "x, y = elephant(np.linspace(0,2*np.pi,1000), p1, p2, p3, p4, p5)\n",
    "pylab.plot(y,-x,'.')\n",
    "pylab.show()"
   ]
  },
  {
   "cell_type": "markdown",
   "metadata": {},
   "source": [
    "## No thicker, no deeper, what is next?\n",
    "\n",
    "Lets summarize the results from our 3 networks:\n",
    "\n",
    "| Network Architecture | Number of trainable parameters | Test Lost | Test Accuracy | Validation Loss | Validation Accuracy |\n",
    "|---|---|---|---|---|---|\n",
    "| 64 $\\times$ 64 $\\times$ 10 | 55,050 | 0.0033 | 0.9991 | 0.1379 | 0.9762 |\n",
    "| 128 $\\times$ 128 $\\times$ 10 | 118,282 | 0.0064 | 0.9979 | 0.1261 | 0.9782 | \n",
    "| 64 $\\times$ 64 $\\times$ 64 $\\times$ 64 $\\times$ 10 | 63,370 | 0.0096 | 0.9971 | 0.1556 | 0.9749 |\n",
    "\n",
    "So adding more neurons on a layer or adding more layers is not helping. Where is the problem?\n",
    "\n",
    "For physicists, there is a guiding principle in many areas:\n",
    "\n",
    "      Follow the symmetries!\n",
    "\n",
    "Imagine one of the images in our training set. What if we take the image and we shift the image one pixel.\n",
    "From our eyes (and brain). The image is the same. Translation symmetry is trivial for an image but from the point of view of our neural networks, the original image and the translated image look very different. \n",
    "Many input cells are changed and this is an unfortunate effect of flattening our 2D array into a 1D array. \n",
    "\n",
    "In addition to the flattening, the neural network is not using the grid arrangement of the pixels and the corresponding arrays.\n",
    "\n",
    "These limitations have been addressed by the so-called **Convolutional Neural Networks** (CNN). CNN's are the correct way of doing image recognition with neural networks."
   ]
  },
  {
   "cell_type": "markdown",
   "metadata": {},
   "source": [
    "# Convolutional Neural Networks\n",
    "\n",
    "**A convolutional neural network (CNN) is a Deep Learning algorithm which can take in an input image, assign importance (learnable weights and biases) to various aspects/objects in the image, and be able to differentiate one from the other**. The pre-processing required in a ConvNet is much lower as compared to other classification algorithms. While in primitive methods filters are hand-engineered, with enough training, ConvNets can learn these filters/characteristics.\n",
    "\n",
    "## AlexNet\n",
    "\n",
    "AlexNet won the ImageNet Large Scale Visual Recognition Competition (ILSVRC) and revolutionized Deep Learning.\n",
    "\n",
    "![AlexNet1](./fig/AlexNet1.png)\n",
    "\n",
    "![AlexNet2](./fig/AlexNet2.png)\n",
    "\n",
    "\n",
    "## A convolution\n",
    "\n",
    "<!--\n",
    "![Convolution](./fig/convolution.svg)\n",
    "\n",
    "![Convolution 11](./fig/convolution11.svg)\n",
    "\n",
    "![Convolution 23](./fig/convolution23.svg)\n",
    "-->\n",
    "\n",
    "<img src=\"./fig/convolution.svg\" width=500 height=500 />\n",
    "<img src=\"./fig/convolution11.svg\" width=500 height=500 />\n",
    "<img src=\"./fig/convolution23.svg\" width=500 height=500 />\n",
    "\n",
    "![CNN](./fig/cnn.jpeg)\n",
    "\n",
    "\n",
    "\n",
    "As seen from this figure, CNN consists of several convolutional and subsampling layers optionally followed by fully connected layers. \n",
    "\n",
    "Let us say that our input to the convolutional layer is a $m \\times m \\times r$ pixels in an image where $m$ is the height and width of the image and $r$ is the number of channels, e.g. an RGB image has $r=3$. The convolutional layer will have $k$ filters (or kernels) of size $n \\times n \\times q$ where n is smaller than the dimension of the image and $q$ can either be the same as the number of channels r or smaller and may vary for each kernel. The size of the filters gives rise to the locally connected structure which is each convolved with the image to produce k feature maps of size $m−n+1$. \n",
    "\n",
    "\n",
    "A simple demonstration is shown in the figure below, where we assume a binary picture and a single filter of a 3x3 matrix. The primary purpose of Convolution is to extract features from the input image. Convolution preserves the spatial relationship between pixels by learning image features using small squares of input data. The orange square slide over the figure and for each 3x3 overlap, I multiply every element of the 3x3 submatrix of the figure with the convolution and then I add all elements afterward. \n",
    "\n",
    "![ConvNet](./fig/ConvNet.jpeg)\n",
    " \n",
    " Let see how this works\n",
    "\n",
    "![CNN](./fig/MovieCN.gif)\n",
    "\n",
    "\n",
    " It is clear that different values of the filter matrix will produce different Feature Maps for the same input image.\n",
    " \n",
    " Typical filter matrices are now described. \n",
    " \n",
    " For edge detection:\n",
    " $\n",
    "\\begin{bmatrix}\n",
    "1&0&-1\\\\\n",
    "0&0&0\\\\\n",
    "-1&0&1\\\\\n",
    "\\end{bmatrix}\n",
    "\\;\\;\n",
    "\\begin{bmatrix}\n",
    "0&1&0\\\\\n",
    "1&-4&1\\\\\n",
    "0&1&0\\\\\n",
    "\\end{bmatrix}\n",
    "\\;\\;\n",
    "\\begin{bmatrix}\n",
    "-1&-1&-1\\\\\n",
    "-1&8&-1\\\\\n",
    "-1&-1&-1\\\\\n",
    "\\end{bmatrix}\n",
    "$\n",
    "\n",
    "For sharpen:\n",
    "$\n",
    "\\begin{bmatrix}\n",
    "0&-1&0\\\\\n",
    "-1&5&-1\\\\\n",
    "0&-1&0\\\\\n",
    "\\end{bmatrix}\n",
    "$\n",
    "\n",
    "In practice, a CNN learns the values of these filters on its own during the training process (although we still need to specify parameters such as the number of filters, filter size, architecture of the network, etc. before the training process). The more filters we have, the more image features get extracted, and the better our network becomes at recognizing patterns in unseen images.\n",
    "\n",
    "The other step that is described in this section is the pooling. Spatial Pooling (also called subsampling or downsampling) reduces the dimensionality of each feature map but retains the most important information. Spatial Pooling can be of different types: Max, Average, Sum, etc."
   ]
  },
  {
   "cell_type": "markdown",
   "metadata": {},
   "source": [
    "## MNIST classification using a simple CNN"
   ]
  },
  {
   "cell_type": "code",
   "execution_count": null,
   "metadata": {},
   "outputs": [],
   "source": [
    "#mnist = tf.keras.datasets.mnist\n",
    "#(train_images, train_labels), (test_images, test_labels) = mnist.load_data()\n",
    "(train_images, train_labels), (test_images, test_labels) = load_data()\n",
    "train_images = train_images.reshape(60000, 28, 28, 1) \n",
    "test_images = test_images.reshape(10000, 28, 28, 1) \n",
    "train_images, test_images = train_images/255, test_images/255"
   ]
  },
  {
   "cell_type": "code",
   "execution_count": null,
   "metadata": {},
   "outputs": [],
   "source": [
    "tf.keras.layers.MaxPooling2D(2,2),"
   ]
  },
  {
   "cell_type": "code",
   "execution_count": null,
   "metadata": {},
   "outputs": [],
   "source": [
    "model = tf.keras.Sequential([\n",
    "                            tf.keras.layers.Conv2D(32, (3,3), activation='relu', input_shape=(28,28,1)), \n",
    "                            tf.keras.layers.Flatten(),\n",
    "                            tf.keras.layers.Dense(100, activation='relu'),\n",
    "                            tf.keras.layers.Dense(10, activation='softmax') ])"
   ]
  },
  {
   "cell_type": "code",
   "execution_count": null,
   "metadata": {},
   "outputs": [],
   "source": [
    "model.summary()"
   ]
  },
  {
   "cell_type": "code",
   "execution_count": null,
   "metadata": {},
   "outputs": [],
   "source": [
    "model.compile(optimizer=tf.keras.optimizers.SGD(learning_rate=0.01, momentum=0.9), \n",
    "              loss='sparse_categorical_crossentropy', \n",
    "              metrics=['accuracy']) "
   ]
  },
  {
   "cell_type": "code",
   "execution_count": null,
   "metadata": {},
   "outputs": [],
   "source": [
    "hist_cnn1 = model.fit(train_images, \n",
    "                    train_labels, \n",
    "                    batch_size=32, \n",
    "                    epochs=int(epoch_reduction_factor*20), \n",
    "                    verbose=1, \n",
    "                    validation_data=(test_images, test_labels))"
   ]
  },
  {
   "cell_type": "code",
   "execution_count": null,
   "metadata": {},
   "outputs": [],
   "source": [
    "plot_accuracy(hist_cnn1);"
   ]
  },
  {
   "cell_type": "code",
   "execution_count": null,
   "metadata": {},
   "outputs": [],
   "source": [
    "plot_loss(hist_cnn1);"
   ]
  },
  {
   "cell_type": "markdown",
   "metadata": {},
   "source": [
    "## Adding another convolutional layer"
   ]
  },
  {
   "cell_type": "code",
   "execution_count": null,
   "metadata": {},
   "outputs": [],
   "source": [
    "model = tf.keras.Sequential([\n",
    "                            tf.keras.layers.Conv2D(32, (3,3), activation='relu', input_shape=(28,28,1)), \n",
    "                            tf.keras.layers.MaxPooling2D(2,2),\n",
    "                            tf.keras.layers.Conv2D(64, (3,3), activation='relu'),\n",
    "                            tf.keras.layers.MaxPooling2D(2,2),\n",
    "                            tf.keras.layers.Flatten(),\n",
    "                            tf.keras.layers.Dense(100, activation='relu'),\n",
    "                            tf.keras.layers.Dense(10, activation='softmax') ])"
   ]
  },
  {
   "cell_type": "code",
   "execution_count": null,
   "metadata": {},
   "outputs": [],
   "source": [
    "model.summary()"
   ]
  },
  {
   "cell_type": "code",
   "execution_count": null,
   "metadata": {},
   "outputs": [],
   "source": [
    "model.compile(optimizer=tf.keras.optimizers.SGD(learning_rate=0.01, momentum=0.9), \n",
    "              loss='sparse_categorical_crossentropy', \n",
    "              metrics=['accuracy']) "
   ]
  },
  {
   "cell_type": "code",
   "execution_count": null,
   "metadata": {},
   "outputs": [],
   "source": [
    "hist_cnn2 = model.fit(train_images, \n",
    "                    train_labels, \n",
    "                    batch_size=32, \n",
    "                    epochs=int(epoch_reduction_factor*20), \n",
    "                    verbose=1, \n",
    "                    validation_data=(test_images, test_labels))"
   ]
  },
  {
   "cell_type": "code",
   "execution_count": null,
   "metadata": {},
   "outputs": [],
   "source": [
    "plot_accuracy(hist_cnn2);"
   ]
  },
  {
   "cell_type": "code",
   "execution_count": null,
   "metadata": {},
   "outputs": [],
   "source": [
    "plot_loss(hist_cnn2);"
   ]
  },
  {
   "cell_type": "markdown",
   "metadata": {},
   "source": [
    "## Adding dropout\n",
    "\n",
    "It looks counterintuitive but sometimes it is good to prune networks. The technique is called dropout and it is used to reduce overfitting.  \n",
    "\n",
    "When using the Dropout layer, it randomly sets input units to 0 with a frequency of `rate` at each step during training time, which helps prevent **overfitting**. Inputs not set to 0 are scaled up by 1/(1 - rate) such that the sum over all inputs is unchanged.\n",
    "\n",
    "Note that the Dropout layer only applies during **training**, ie no neurons are dropped during inference. When using `model.fit`, training will be appropriately set to True automatically."
   ]
  },
  {
   "cell_type": "code",
   "execution_count": null,
   "metadata": {},
   "outputs": [],
   "source": [
    "model = tf.keras.Sequential([\n",
    "                            tf.keras.layers.Conv2D(32, (3,3), activation='relu', input_shape=(28,28,1)), \n",
    "                            tf.keras.layers.MaxPooling2D(2,2),\n",
    "                            tf.keras.layers.Conv2D(64, (3,3), activation='relu'),\n",
    "                            tf.keras.layers.MaxPooling2D(2,2),\n",
    "                            tf.keras.layers.Dropout(0.25),\n",
    "                            tf.keras.layers.Flatten(),\n",
    "                            tf.keras.layers.Dense(100, activation='relu'),\n",
    "                            tf.keras.layers.Dropout(0.25),\n",
    "                            tf.keras.layers.Dense(10, activation='softmax') ])"
   ]
  },
  {
   "cell_type": "code",
   "execution_count": null,
   "metadata": {},
   "outputs": [],
   "source": [
    "model.summary()"
   ]
  },
  {
   "cell_type": "code",
   "execution_count": null,
   "metadata": {},
   "outputs": [],
   "source": [
    "model.compile(optimizer=tf.keras.optimizers.SGD(learning_rate=0.01, momentum=0.9), \n",
    "              loss='sparse_categorical_crossentropy', \n",
    "              metrics=['accuracy']) "
   ]
  },
  {
   "cell_type": "code",
   "execution_count": null,
   "metadata": {},
   "outputs": [],
   "source": [
    "hist_cnn3 = model.fit(train_images, \n",
    "                    train_labels, \n",
    "                    batch_size=32, \n",
    "                    epochs=int(epoch_reduction_factor*20), \n",
    "                    verbose=1, \n",
    "                    validation_data=(test_images, test_labels))"
   ]
  },
  {
   "cell_type": "code",
   "execution_count": null,
   "metadata": {},
   "outputs": [],
   "source": [
    "plot_accuracy(hist_cnn3);"
   ]
  },
  {
   "cell_type": "code",
   "execution_count": null,
   "metadata": {},
   "outputs": [],
   "source": [
    "plot_loss(hist_cnn3);"
   ]
  },
  {
   "cell_type": "markdown",
   "metadata": {},
   "source": [
    "## Summarizing all neural networks we used"
   ]
  },
  {
   "cell_type": "code",
   "execution_count": null,
   "metadata": {},
   "outputs": [],
   "source": [
    "plt.figure(figsize=(12, 6))\n",
    "\n",
    "for ihist in [hist_dnn1, hist_dnn2, hist_dnn3, hist_cnn1, hist_cnn2, hist_cnn3]:\n",
    "    plt.plot(ihist.history['val_accuracy'],'o-')\n",
    "\n",
    "plt.title('Model accuracy')\n",
    "plt.ylabel('Accuracy')\n",
    "plt.xlabel('Epoch')\n",
    "plt.legend([r'DNN $64 \\times 64 \\times 10$', \n",
    "            r'DNN $128 \\times 128 \\times 10$', \n",
    "            r'DNN $64 \\times 64 \\times 64 \\times 64 \\times 10$', \n",
    "            r'CNN $c32mp2 \\times d100 \\times d10$', \n",
    "            r'CNN $c32mp2 \\times c64mp2 \\times d100 \\times d10$', \n",
    "            r'CNN $c32mp2 \\times c64mp2 \\times dp.25 \\times d100 \\times d10$'], loc='lower right');"
   ]
  },
  {
   "cell_type": "code",
   "execution_count": null,
   "metadata": {},
   "outputs": [],
   "source": [
    "plt.figure(figsize=(12, 6))\n",
    "\n",
    "for ihist in [hist_dnn1, hist_dnn2, hist_dnn3, hist_cnn1, hist_cnn2, hist_cnn3]:\n",
    "    plt.plot(ihist.history['val_loss'],'o-')\n",
    "\n",
    "plt.title('Cross Entropy Loss')\n",
    "plt.ylabel('Loss')\n",
    "plt.xlabel('Epoch')\n",
    "plt.legend([r'DNN $64 \\times 64 \\times 10$', \n",
    "            r'DNN $128 \\times 128 \\times 10$', \n",
    "            r'DNN $64 \\times 64 \\times 64 \\times 64 \\times 10$', \n",
    "            r'CNN $c32mp2 \\times d100 \\times d10$', \n",
    "            r'CNN $c32mp2 \\times c64mp2 \\times d100 \\times d10$', \n",
    "            r'CNN $c32mp2 \\times c64mp2 \\times dp.25 \\times d100 \\times d10$'], loc='lower right');"
   ]
  },
  {
   "cell_type": "markdown",
   "metadata": {},
   "source": [
    "# Building Deep Learning models using low-level TensorFlow 1.x"
   ]
  },
  {
   "cell_type": "markdown",
   "metadata": {},
   "source": [
    "As we saw above, Keras offers an easy and high-level API for building both dense and convolutional Neural Networks with just a few lines of code.\n",
    "\n",
    "At this point is also illustrative how the model can be built explicitly on TensorFlow using the old TensorFlow 1.x API.\n",
    "\n",
    "We start with a set of functions and classes for processing the original MNIST dataset. "
   ]
  },
  {
   "cell_type": "code",
   "execution_count": null,
   "metadata": {},
   "outputs": [],
   "source": [
    "\"\"\"Functions for downloading and reading MNIST data.\"\"\"\n",
    "\n",
    "import gzip\n",
    "import os\n",
    "import shutil\n",
    "import urllib.request\n",
    "import numpy\n",
    "import tempfile\n",
    "SOURCE_URL = 'http://yann.lecun.com/exdb/mnist/'\n",
    "\n",
    "def maybe_download(filename, work_directory, data_directory):\n",
    "    \"\"\"Download the data from Yann's website, unless it's already here.\"\"\"\n",
    "    if not os.path.exists(work_directory):\n",
    "        os.mkdir(work_directory)\n",
    "    filepath = os.path.join(data_directory, filename)\n",
    "    filepath2 = os.path.join(work_directory, filename)\n",
    "    if not os.path.exists(filepath):\n",
    "        filepath, _ = urllib.request.urlretrieve(SOURCE_URL + filename, filepath)\n",
    "        statinfo = os.stat(filepath)\n",
    "        print('Succesfully downloaded', filename, statinfo.st_size, 'bytes.')\n",
    "    shutil.copyfile(filepath, filepath2)\n",
    "    return filepath2\n",
    "\n",
    "def _read32(bytestream):\n",
    "    dt = numpy.dtype(numpy.uint32).newbyteorder('>')\n",
    "    return numpy.frombuffer(bytestream.read(4), dtype=dt)\n",
    "\n",
    "\n",
    "def extract_images(filename):\n",
    "    \"\"\"Extract the images into a 4D uint8 numpy array [index, y, x, depth].\"\"\"\n",
    "    print('Extracting', filename)\n",
    "    with gzip.open(filename) as bytestream:\n",
    "        magic = _read32(bytestream)\n",
    "        if magic != 2051:\n",
    "            raise ValueError(\n",
    "                'Invalid magic number %d in MNIST image file: %s' %\n",
    "                (magic, filename))\n",
    "        num_images = _read32(bytestream)[0]\n",
    "        rows = _read32(bytestream)[0]\n",
    "        cols = _read32(bytestream)[0]\n",
    "        print(f\"Detected {num_images} images of size {rows} x {cols}\")\n",
    "        buf = bytestream.read(rows * cols * num_images)\n",
    "        data = numpy.frombuffer(buf, dtype=numpy.uint8)\n",
    "        data = data.reshape(num_images, rows, cols, 1)\n",
    "        return data\n",
    "\n",
    "\n",
    "def dense_to_one_hot(labels_dense, num_classes=10):\n",
    "    \"\"\"Convert class labels from scalars to one-hot vectors.\"\"\"\n",
    "    num_labels = labels_dense.shape[0]\n",
    "    index_offset = numpy.arange(num_labels) * num_classes\n",
    "    labels_one_hot = numpy.zeros((num_labels, num_classes))\n",
    "    labels_one_hot.flat[index_offset + labels_dense.ravel()] = 1\n",
    "    return labels_one_hot\n",
    "\n",
    "\n",
    "def extract_labels(filename, one_hot=False):\n",
    "    \"\"\"Extract the labels into a 1D uint8 numpy array [index].\"\"\"\n",
    "    print('Extracting', filename)\n",
    "    with gzip.open(filename) as bytestream:\n",
    "        magic = _read32(bytestream)\n",
    "        if magic != 2049:\n",
    "            raise ValueError(\n",
    "                'Invalid magic number %d in MNIST label file: %s' %\n",
    "                (magic, filename))\n",
    "        num_items = _read32(bytestream)[0]\n",
    "        buf = bytestream.read(num_items)\n",
    "        labels = numpy.frombuffer(buf, dtype=numpy.uint8)\n",
    "        if one_hot:\n",
    "            return dense_to_one_hot(labels)\n",
    "        return labels\n",
    "\n",
    "\n",
    "class DataSet(object):\n",
    "    def __init__(self, images, labels, fake_data=False):\n",
    "        if fake_data:\n",
    "            self._num_examples = 10000\n",
    "        else:\n",
    "            assert images.shape[0] == labels.shape[0], (\n",
    "                \"images.shape: %s labels.shape: %s\" % (images.shape,\n",
    "                                                       labels.shape))\n",
    "            self._num_examples = images.shape[0]\n",
    "            # Convert shape from [num examples, rows, columns, depth]\n",
    "            # to [num examples, rows*columns] (assuming depth == 1)\n",
    "            assert images.shape[3] == 1\n",
    "            images = images.reshape(images.shape[0],\n",
    "                                    images.shape[1] * images.shape[2])\n",
    "            # Convert from [0, 255] -> [0.0, 1.0].\n",
    "            images = images.astype(numpy.float32)\n",
    "            images = numpy.multiply(images, 1.0 / 255.0)\n",
    "        self._images = images\n",
    "        self._labels = labels\n",
    "        self._epochs_completed = 0\n",
    "        self._index_in_epoch = 0\n",
    "\n",
    "    @property\n",
    "    def images(self):\n",
    "        return self._images\n",
    "\n",
    "    @property\n",
    "    def labels(self):\n",
    "        return self._labels\n",
    "\n",
    "    @property\n",
    "    def num_examples(self):\n",
    "        return self._num_examples\n",
    "\n",
    "    @property\n",
    "    def epochs_completed(self):\n",
    "        return self._epochs_completed\n",
    "\n",
    "    def next_batch(self, batch_size, fake_data=False):\n",
    "        \"\"\"Return the next `batch_size` examples from this data set.\"\"\"\n",
    "        if fake_data:\n",
    "            fake_image = [1.0 for _ in xrange(784)]\n",
    "            fake_label = 0\n",
    "            return [fake_image for _ in xrange(batch_size)], [\n",
    "                fake_label for _ in xrange(batch_size)]\n",
    "        start = self._index_in_epoch\n",
    "        self._index_in_epoch += batch_size\n",
    "        if self._index_in_epoch > self._num_examples:\n",
    "            # Finished epoch\n",
    "            self._epochs_completed += 1\n",
    "            # Shuffle the data\n",
    "            perm = numpy.arange(self._num_examples)\n",
    "            numpy.random.shuffle(perm)\n",
    "            self._images = self._images[perm]\n",
    "            self._labels = self._labels[perm]\n",
    "            # Start next epoch\n",
    "            start = 0\n",
    "            self._index_in_epoch = batch_size\n",
    "            assert batch_size <= self._num_examples\n",
    "        end = self._index_in_epoch\n",
    "        return self._images[start:end], self._labels[start:end]\n",
    "\n",
    "\n",
    "def read_data_sets(train_dir, data_dir, fake_data=False, one_hot=False):\n",
    "    class DataSets(object):\n",
    "        pass\n",
    "    data_sets = DataSets()\n",
    "    if fake_data:\n",
    "        data_sets.train = DataSet([], [], fake_data=True)\n",
    "        data_sets.validation = DataSet([], [], fake_data=True)\n",
    "        data_sets.test = DataSet([], [], fake_data=True)\n",
    "        return data_sets\n",
    "    TRAIN_IMAGES = 'train-images-idx3-ubyte.gz'\n",
    "    TRAIN_LABELS = 'train-labels-idx1-ubyte.gz'\n",
    "    TEST_IMAGES = 't10k-images-idx3-ubyte.gz'\n",
    "    TEST_LABELS = 't10k-labels-idx1-ubyte.gz'\n",
    "    VALIDATION_SIZE = 5000\n",
    "    local_file = maybe_download(TRAIN_IMAGES, train_dir, data_dir)\n",
    "    train_images = extract_images(local_file)\n",
    "    local_file = maybe_download(TRAIN_LABELS, train_dir, data_dir)\n",
    "    train_labels = extract_labels(local_file, one_hot=one_hot)\n",
    "    local_file = maybe_download(TEST_IMAGES, train_dir, data_dir)\n",
    "    test_images = extract_images(local_file)\n",
    "    local_file = maybe_download(TEST_LABELS, train_dir, data_dir)\n",
    "    test_labels = extract_labels(local_file, one_hot=one_hot)\n",
    "    validation_images = train_images[:VALIDATION_SIZE]\n",
    "    validation_labels = train_labels[:VALIDATION_SIZE]\n",
    "    train_images = train_images[VALIDATION_SIZE:]\n",
    "    train_labels = train_labels[VALIDATION_SIZE:]\n",
    "    data_sets.train = DataSet(train_images, train_labels)\n",
    "    data_sets.validation = DataSet(validation_images, validation_labels)\n",
    "    data_sets.test = DataSet(test_images, test_labels)\n",
    "    return data_sets"
   ]
  },
  {
   "cell_type": "code",
   "execution_count": null,
   "metadata": {},
   "outputs": [],
   "source": [
    "tempdir = tempfile.mkdtemp()\n",
    "print(tempdir)"
   ]
  },
  {
   "cell_type": "markdown",
   "metadata": {},
   "source": [
    "# Cleaning"
   ]
  },
  {
   "cell_type": "code",
   "execution_count": null,
   "metadata": {},
   "outputs": [],
   "source": [
    "shutil.rmtree(tempdir)"
   ]
  },
  {
   "cell_type": "markdown",
   "metadata": {},
   "source": [
    "# Exercises\n",
    "\n",
    "  1. MNIST is a relatively simple dataset. Try to get the simplest network that gives you a 95% accuracy with the validation data. \n",
    "     Check the number of trainable parameters as your measure of simplicity. Imagine that it will be deployed on very modest hardware and you cannot have the luxury of storing hundreds of thousands of parameters.\n",
    "\n",
    "  1. What happens to the number of parameters if we remove the MaxPooling2D from the network architecture?\n",
    "     Use model.summary() to check for that. Do not try to train such a network.\n",
    "   "
   ]
  },
  {
   "cell_type": "markdown",
   "metadata": {},
   "source": [
    "## From A to Z with a single data set"
   ]
  },
  {
   "cell_type": "code",
   "execution_count": 38,
   "metadata": {},
   "outputs": [],
   "source": [
    "import tensorflow as tf\n",
    "from tensorflow.keras import layers\n",
    "import pandas as pd\n",
    "import numpy as np\n",
    "from tensorflow.keras import datasets, layers, models\n",
    "from tensorflow.keras.utils import to_categorical"
   ]
  },
  {
   "cell_type": "code",
   "execution_count": 40,
   "metadata": {},
   "outputs": [
    {
     "name": "stdout",
     "output_type": "stream",
     "text": [
      "data/iris.csv\n"
     ]
    }
   ],
   "source": [
    "dataFolder = 'data/'\n",
    "dataFile = dataFolder + \"iris.csv\"\n",
    "print(dataFile)"
   ]
  },
  {
   "cell_type": "code",
   "execution_count": 41,
   "metadata": {},
   "outputs": [
    {
     "data": {
      "text/html": [
       "<div>\n",
       "<style scoped>\n",
       "    .dataframe tbody tr th:only-of-type {\n",
       "        vertical-align: middle;\n",
       "    }\n",
       "\n",
       "    .dataframe tbody tr th {\n",
       "        vertical-align: top;\n",
       "    }\n",
       "\n",
       "    .dataframe thead th {\n",
       "        text-align: right;\n",
       "    }\n",
       "</style>\n",
       "<table border=\"1\" class=\"dataframe\">\n",
       "  <thead>\n",
       "    <tr style=\"text-align: right;\">\n",
       "      <th></th>\n",
       "      <th>5.1</th>\n",
       "      <th>3.5</th>\n",
       "      <th>1.4</th>\n",
       "      <th>0.2</th>\n",
       "      <th>Iris-setosa</th>\n",
       "    </tr>\n",
       "  </thead>\n",
       "  <tbody>\n",
       "    <tr>\n",
       "      <th>0</th>\n",
       "      <td>4.9</td>\n",
       "      <td>3.0</td>\n",
       "      <td>1.4</td>\n",
       "      <td>0.2</td>\n",
       "      <td>Iris-setosa</td>\n",
       "    </tr>\n",
       "    <tr>\n",
       "      <th>1</th>\n",
       "      <td>4.7</td>\n",
       "      <td>3.2</td>\n",
       "      <td>1.3</td>\n",
       "      <td>0.2</td>\n",
       "      <td>Iris-setosa</td>\n",
       "    </tr>\n",
       "    <tr>\n",
       "      <th>2</th>\n",
       "      <td>4.6</td>\n",
       "      <td>3.1</td>\n",
       "      <td>1.5</td>\n",
       "      <td>0.2</td>\n",
       "      <td>Iris-setosa</td>\n",
       "    </tr>\n",
       "    <tr>\n",
       "      <th>3</th>\n",
       "      <td>5.0</td>\n",
       "      <td>3.6</td>\n",
       "      <td>1.4</td>\n",
       "      <td>0.2</td>\n",
       "      <td>Iris-setosa</td>\n",
       "    </tr>\n",
       "    <tr>\n",
       "      <th>4</th>\n",
       "      <td>5.4</td>\n",
       "      <td>3.9</td>\n",
       "      <td>1.7</td>\n",
       "      <td>0.4</td>\n",
       "      <td>Iris-setosa</td>\n",
       "    </tr>\n",
       "  </tbody>\n",
       "</table>\n",
       "</div>"
      ],
      "text/plain": [
       "   5.1  3.5  1.4  0.2  Iris-setosa\n",
       "0  4.9  3.0  1.4  0.2  Iris-setosa\n",
       "1  4.7  3.2  1.3  0.2  Iris-setosa\n",
       "2  4.6  3.1  1.5  0.2  Iris-setosa\n",
       "3  5.0  3.6  1.4  0.2  Iris-setosa\n",
       "4  5.4  3.9  1.7  0.4  Iris-setosa"
      ]
     },
     "execution_count": 41,
     "metadata": {},
     "output_type": "execute_result"
    }
   ],
   "source": [
    "df = pd.read_csv(dataFile)\n",
    "df.head()"
   ]
  },
  {
   "cell_type": "code",
   "execution_count": 42,
   "metadata": {},
   "outputs": [
    {
     "name": "stdout",
     "output_type": "stream",
     "text": [
      "[[4.9 3.  1.4 0.2]\n",
      " [4.7 3.2 1.3 0.2]\n",
      " [4.6 3.1 1.5 0.2]\n",
      " [5.  3.6 1.4 0.2]\n",
      " [5.4 3.9 1.7 0.4]]\n",
      "['Iris-setosa' 'Iris-setosa' 'Iris-setosa' 'Iris-setosa' 'Iris-setosa']\n"
     ]
    }
   ],
   "source": [
    "# Split into X and Y\n",
    "\n",
    "X = df.iloc[:,0:4].values\n",
    "y = df.iloc[:,4].values\n",
    "print(X[0:5])\n",
    "print(y[0:5])"
   ]
  },
  {
   "cell_type": "code",
   "execution_count": 43,
   "metadata": {},
   "outputs": [],
   "source": [
    "from sklearn.preprocessing import LabelEncoder\n",
    "encoder =  LabelEncoder()\n",
    "y1 = encoder.fit_transform(y)"
   ]
  },
  {
   "cell_type": "code",
   "execution_count": 45,
   "metadata": {},
   "outputs": [
    {
     "name": "stdout",
     "output_type": "stream",
     "text": [
      "[[1 0 0]\n",
      " [1 0 0]\n",
      " [1 0 0]\n",
      " [1 0 0]\n",
      " [1 0 0]]\n"
     ]
    }
   ],
   "source": [
    "# Convert Y into one hot encoding\n",
    "\n",
    "Y = pd.get_dummies(y1).values\n",
    "print(Y[0:5])"
   ]
  },
  {
   "cell_type": "code",
   "execution_count": 47,
   "metadata": {
    "scrolled": true
   },
   "outputs": [
    {
     "name": "stdout",
     "output_type": "stream",
     "text": [
      "[[5.2 3.4 1.4 0.2]\n",
      " [5.1 2.5 3.  1.1]\n",
      " [6.2 2.9 4.3 1.3]\n",
      " [5.9 3.2 4.8 1.8]\n",
      " [5.1 3.8 1.5 0.3]]\n",
      "(119, 4)\n"
     ]
    }
   ],
   "source": [
    "# convert X and Y into train and test data\n",
    "\n",
    "from sklearn.model_selection import train_test_split\n",
    "\n",
    "X_train, X_test, y_train, y_test = train_test_split(X, Y, test_size=0.2, random_state=0)\n",
    "\n",
    "print(X_train[0:5])\n",
    "print(X_train.shape)"
   ]
  },
  {
   "cell_type": "code",
   "execution_count": 51,
   "metadata": {},
   "outputs": [
    {
     "name": "stdout",
     "output_type": "stream",
     "text": [
      "Epoch 1/100\n",
      "3/3 [==============================] - 0s 32ms/step - loss: 4.1163 - accuracy: 0.3361 - val_loss: 3.5789 - val_accuracy: 0.3333\n",
      "Epoch 2/100\n",
      "3/3 [==============================] - 0s 6ms/step - loss: 3.6278 - accuracy: 0.3361 - val_loss: 3.2838 - val_accuracy: 0.3333\n",
      "Epoch 3/100\n",
      "3/3 [==============================] - 0s 6ms/step - loss: 3.3066 - accuracy: 0.3361 - val_loss: 3.0085 - val_accuracy: 0.3333\n",
      "Epoch 4/100\n",
      "3/3 [==============================] - 0s 7ms/step - loss: 3.0168 - accuracy: 0.3361 - val_loss: 2.7885 - val_accuracy: 0.3333\n",
      "Epoch 5/100\n",
      "3/3 [==============================] - 0s 6ms/step - loss: 2.7831 - accuracy: 0.3361 - val_loss: 2.5999 - val_accuracy: 0.3333\n",
      "Epoch 6/100\n",
      "3/3 [==============================] - 0s 6ms/step - loss: 2.5777 - accuracy: 0.3361 - val_loss: 2.4223 - val_accuracy: 0.3333\n",
      "Epoch 7/100\n",
      "3/3 [==============================] - 0s 7ms/step - loss: 2.3837 - accuracy: 0.3361 - val_loss: 2.2556 - val_accuracy: 0.3333\n",
      "Epoch 8/100\n",
      "3/3 [==============================] - 0s 7ms/step - loss: 2.1998 - accuracy: 0.3361 - val_loss: 2.0976 - val_accuracy: 0.3333\n",
      "Epoch 9/100\n",
      "3/3 [==============================] - 0s 6ms/step - loss: 2.0256 - accuracy: 0.3361 - val_loss: 1.9538 - val_accuracy: 0.3333\n",
      "Epoch 10/100\n",
      "3/3 [==============================] - 0s 7ms/step - loss: 1.8674 - accuracy: 0.3361 - val_loss: 1.8353 - val_accuracy: 0.3333\n",
      "Epoch 11/100\n",
      "3/3 [==============================] - 0s 6ms/step - loss: 1.7365 - accuracy: 0.3361 - val_loss: 1.7374 - val_accuracy: 0.3333\n",
      "Epoch 12/100\n",
      "3/3 [==============================] - 0s 7ms/step - loss: 1.6283 - accuracy: 0.3361 - val_loss: 1.6430 - val_accuracy: 0.3333\n",
      "Epoch 13/100\n",
      "3/3 [==============================] - 0s 6ms/step - loss: 1.5268 - accuracy: 0.3361 - val_loss: 1.5642 - val_accuracy: 0.3333\n",
      "Epoch 14/100\n",
      "3/3 [==============================] - 0s 7ms/step - loss: 1.4461 - accuracy: 0.3361 - val_loss: 1.5038 - val_accuracy: 0.3333\n",
      "Epoch 15/100\n",
      "3/3 [==============================] - 0s 7ms/step - loss: 1.3824 - accuracy: 0.3361 - val_loss: 1.4552 - val_accuracy: 0.3333\n",
      "Epoch 16/100\n",
      "3/3 [==============================] - 0s 7ms/step - loss: 1.3305 - accuracy: 0.3361 - val_loss: 1.4148 - val_accuracy: 0.3333\n",
      "Epoch 17/100\n",
      "3/3 [==============================] - 0s 7ms/step - loss: 1.2912 - accuracy: 0.3277 - val_loss: 1.3738 - val_accuracy: 0.3333\n",
      "Epoch 18/100\n",
      "3/3 [==============================] - 0s 7ms/step - loss: 1.2540 - accuracy: 0.3193 - val_loss: 1.3303 - val_accuracy: 0.3000\n",
      "Epoch 19/100\n",
      "3/3 [==============================] - 0s 7ms/step - loss: 1.2156 - accuracy: 0.3109 - val_loss: 1.2961 - val_accuracy: 0.2667\n",
      "Epoch 20/100\n",
      "3/3 [==============================] - 0s 7ms/step - loss: 1.1838 - accuracy: 0.1513 - val_loss: 1.2602 - val_accuracy: 0.2667\n",
      "Epoch 21/100\n",
      "3/3 [==============================] - 0s 6ms/step - loss: 1.1550 - accuracy: 0.1092 - val_loss: 1.2332 - val_accuracy: 0.2333\n",
      "Epoch 22/100\n",
      "3/3 [==============================] - 0s 7ms/step - loss: 1.1280 - accuracy: 0.2437 - val_loss: 1.2079 - val_accuracy: 0.2333\n",
      "Epoch 23/100\n",
      "3/3 [==============================] - 0s 7ms/step - loss: 1.1059 - accuracy: 0.3277 - val_loss: 1.1819 - val_accuracy: 0.2667\n",
      "Epoch 24/100\n",
      "3/3 [==============================] - 0s 7ms/step - loss: 1.0822 - accuracy: 0.3529 - val_loss: 1.1477 - val_accuracy: 0.2667\n",
      "Epoch 25/100\n",
      "3/3 [==============================] - 0s 7ms/step - loss: 1.0586 - accuracy: 0.3529 - val_loss: 1.1230 - val_accuracy: 0.2667\n",
      "Epoch 26/100\n",
      "3/3 [==============================] - 0s 7ms/step - loss: 1.0373 - accuracy: 0.3529 - val_loss: 1.0977 - val_accuracy: 0.2667\n",
      "Epoch 27/100\n",
      "3/3 [==============================] - 0s 6ms/step - loss: 1.0169 - accuracy: 0.3529 - val_loss: 1.0711 - val_accuracy: 0.2667\n",
      "Epoch 28/100\n",
      "3/3 [==============================] - 0s 6ms/step - loss: 0.9985 - accuracy: 0.3445 - val_loss: 1.0472 - val_accuracy: 0.2667\n",
      "Epoch 29/100\n",
      "3/3 [==============================] - 0s 6ms/step - loss: 0.9798 - accuracy: 0.3529 - val_loss: 1.0188 - val_accuracy: 0.2667\n",
      "Epoch 30/100\n",
      "3/3 [==============================] - 0s 7ms/step - loss: 0.9566 - accuracy: 0.3529 - val_loss: 0.9975 - val_accuracy: 0.2667\n",
      "Epoch 31/100\n",
      "3/3 [==============================] - 0s 7ms/step - loss: 0.9392 - accuracy: 0.3529 - val_loss: 0.9823 - val_accuracy: 0.2667\n",
      "Epoch 32/100\n",
      "3/3 [==============================] - 0s 6ms/step - loss: 0.9230 - accuracy: 0.3529 - val_loss: 0.9619 - val_accuracy: 0.2667\n",
      "Epoch 33/100\n",
      "3/3 [==============================] - 0s 6ms/step - loss: 0.9091 - accuracy: 0.3529 - val_loss: 0.9412 - val_accuracy: 0.2667\n",
      "Epoch 34/100\n",
      "3/3 [==============================] - 0s 6ms/step - loss: 0.8880 - accuracy: 0.3529 - val_loss: 0.9182 - val_accuracy: 0.2667\n",
      "Epoch 35/100\n",
      "3/3 [==============================] - 0s 6ms/step - loss: 0.8734 - accuracy: 0.3529 - val_loss: 0.9050 - val_accuracy: 0.2667\n",
      "Epoch 36/100\n",
      "3/3 [==============================] - 0s 6ms/step - loss: 0.8587 - accuracy: 0.3782 - val_loss: 0.8888 - val_accuracy: 0.4667\n",
      "Epoch 37/100\n",
      "3/3 [==============================] - 0s 6ms/step - loss: 0.8451 - accuracy: 0.5294 - val_loss: 0.8676 - val_accuracy: 0.5667\n",
      "Epoch 38/100\n",
      "3/3 [==============================] - 0s 6ms/step - loss: 0.8295 - accuracy: 0.6471 - val_loss: 0.8448 - val_accuracy: 0.6333\n",
      "Epoch 39/100\n",
      "3/3 [==============================] - 0s 6ms/step - loss: 0.8151 - accuracy: 0.6555 - val_loss: 0.8325 - val_accuracy: 0.6667\n",
      "Epoch 40/100\n",
      "3/3 [==============================] - 0s 7ms/step - loss: 0.8024 - accuracy: 0.6639 - val_loss: 0.8145 - val_accuracy: 0.6667\n",
      "Epoch 41/100\n",
      "3/3 [==============================] - 0s 7ms/step - loss: 0.7931 - accuracy: 0.6639 - val_loss: 0.8017 - val_accuracy: 0.7333\n",
      "Epoch 42/100\n",
      "3/3 [==============================] - 0s 7ms/step - loss: 0.7804 - accuracy: 0.6807 - val_loss: 0.7857 - val_accuracy: 0.6667\n",
      "Epoch 43/100\n",
      "3/3 [==============================] - 0s 6ms/step - loss: 0.7674 - accuracy: 0.6639 - val_loss: 0.7756 - val_accuracy: 0.6667\n",
      "Epoch 44/100\n",
      "3/3 [==============================] - 0s 6ms/step - loss: 0.7578 - accuracy: 0.6639 - val_loss: 0.7576 - val_accuracy: 0.7333\n",
      "Epoch 45/100\n",
      "3/3 [==============================] - 0s 6ms/step - loss: 0.7464 - accuracy: 0.6639 - val_loss: 0.7496 - val_accuracy: 0.6667\n",
      "Epoch 46/100\n",
      "3/3 [==============================] - 0s 6ms/step - loss: 0.7364 - accuracy: 0.6639 - val_loss: 0.7390 - val_accuracy: 0.6667\n",
      "Epoch 47/100\n",
      "3/3 [==============================] - 0s 6ms/step - loss: 0.7264 - accuracy: 0.6639 - val_loss: 0.7336 - val_accuracy: 0.6667\n",
      "Epoch 48/100\n",
      "3/3 [==============================] - 0s 6ms/step - loss: 0.7186 - accuracy: 0.6639 - val_loss: 0.7177 - val_accuracy: 0.6667\n",
      "Epoch 49/100\n",
      "3/3 [==============================] - 0s 6ms/step - loss: 0.7098 - accuracy: 0.6639 - val_loss: 0.7133 - val_accuracy: 0.6667\n",
      "Epoch 50/100\n",
      "3/3 [==============================] - 0s 7ms/step - loss: 0.7078 - accuracy: 0.6723 - val_loss: 0.7027 - val_accuracy: 0.6667\n",
      "Epoch 51/100\n",
      "3/3 [==============================] - 0s 7ms/step - loss: 0.6963 - accuracy: 0.6639 - val_loss: 0.6988 - val_accuracy: 0.6667\n",
      "Epoch 52/100\n",
      "3/3 [==============================] - 0s 6ms/step - loss: 0.6892 - accuracy: 0.6639 - val_loss: 0.6850 - val_accuracy: 0.8333\n",
      "Epoch 53/100\n",
      "3/3 [==============================] - 0s 7ms/step - loss: 0.6845 - accuracy: 0.7983 - val_loss: 0.6777 - val_accuracy: 0.7333\n",
      "Epoch 54/100\n",
      "3/3 [==============================] - 0s 7ms/step - loss: 0.6779 - accuracy: 0.6723 - val_loss: 0.6742 - val_accuracy: 0.7000\n",
      "Epoch 55/100\n",
      "3/3 [==============================] - 0s 6ms/step - loss: 0.6692 - accuracy: 0.6639 - val_loss: 0.6735 - val_accuracy: 0.6667\n",
      "Epoch 56/100\n",
      "3/3 [==============================] - 0s 8ms/step - loss: 0.6631 - accuracy: 0.6639 - val_loss: 0.6625 - val_accuracy: 0.6667\n",
      "Epoch 57/100\n",
      "3/3 [==============================] - 0s 7ms/step - loss: 0.6606 - accuracy: 0.6639 - val_loss: 0.6525 - val_accuracy: 0.7333\n",
      "Epoch 58/100\n",
      "3/3 [==============================] - 0s 6ms/step - loss: 0.6508 - accuracy: 0.6807 - val_loss: 0.6427 - val_accuracy: 0.8333\n",
      "Epoch 59/100\n"
     ]
    },
    {
     "name": "stdout",
     "output_type": "stream",
     "text": [
      "3/3 [==============================] - 0s 8ms/step - loss: 0.6504 - accuracy: 0.7311 - val_loss: 0.6372 - val_accuracy: 0.9667\n",
      "Epoch 60/100\n",
      "3/3 [==============================] - 0s 13ms/step - loss: 0.6435 - accuracy: 0.7479 - val_loss: 0.6304 - val_accuracy: 0.9000\n",
      "Epoch 61/100\n",
      "3/3 [==============================] - 0s 8ms/step - loss: 0.6371 - accuracy: 0.8992 - val_loss: 0.6282 - val_accuracy: 0.7667\n",
      "Epoch 62/100\n",
      "3/3 [==============================] - 0s 7ms/step - loss: 0.6300 - accuracy: 0.7059 - val_loss: 0.6203 - val_accuracy: 0.9667\n",
      "Epoch 63/100\n",
      "3/3 [==============================] - 0s 7ms/step - loss: 0.6252 - accuracy: 0.8319 - val_loss: 0.6163 - val_accuracy: 0.7667\n",
      "Epoch 64/100\n",
      "3/3 [==============================] - 0s 6ms/step - loss: 0.6218 - accuracy: 0.7311 - val_loss: 0.6109 - val_accuracy: 0.7667\n",
      "Epoch 65/100\n",
      "3/3 [==============================] - 0s 6ms/step - loss: 0.6166 - accuracy: 0.7395 - val_loss: 0.6056 - val_accuracy: 0.9333\n",
      "Epoch 66/100\n",
      "3/3 [==============================] - 0s 7ms/step - loss: 0.6101 - accuracy: 0.8403 - val_loss: 0.5957 - val_accuracy: 0.9000\n",
      "Epoch 67/100\n",
      "3/3 [==============================] - 0s 7ms/step - loss: 0.6050 - accuracy: 0.8739 - val_loss: 0.5981 - val_accuracy: 0.6667\n",
      "Epoch 68/100\n",
      "3/3 [==============================] - 0s 7ms/step - loss: 0.6015 - accuracy: 0.6891 - val_loss: 0.6012 - val_accuracy: 0.6667\n",
      "Epoch 69/100\n",
      "3/3 [==============================] - 0s 7ms/step - loss: 0.6010 - accuracy: 0.6723 - val_loss: 0.5979 - val_accuracy: 0.6667\n",
      "Epoch 70/100\n",
      "3/3 [==============================] - 0s 6ms/step - loss: 0.5934 - accuracy: 0.6639 - val_loss: 0.5797 - val_accuracy: 0.7333\n",
      "Epoch 71/100\n",
      "3/3 [==============================] - 0s 7ms/step - loss: 0.5853 - accuracy: 0.7143 - val_loss: 0.5788 - val_accuracy: 0.7000\n",
      "Epoch 72/100\n",
      "3/3 [==============================] - 0s 6ms/step - loss: 0.5816 - accuracy: 0.7059 - val_loss: 0.5712 - val_accuracy: 0.7333\n",
      "Epoch 73/100\n",
      "3/3 [==============================] - 0s 7ms/step - loss: 0.5774 - accuracy: 0.7479 - val_loss: 0.5711 - val_accuracy: 0.6667\n",
      "Epoch 74/100\n",
      "3/3 [==============================] - 0s 6ms/step - loss: 0.5746 - accuracy: 0.6723 - val_loss: 0.5618 - val_accuracy: 0.7333\n",
      "Epoch 75/100\n",
      "3/3 [==============================] - 0s 7ms/step - loss: 0.5694 - accuracy: 0.7815 - val_loss: 0.5614 - val_accuracy: 0.6667\n",
      "Epoch 76/100\n",
      "3/3 [==============================] - 0s 6ms/step - loss: 0.5660 - accuracy: 0.6723 - val_loss: 0.5517 - val_accuracy: 0.7333\n",
      "Epoch 77/100\n",
      "3/3 [==============================] - 0s 7ms/step - loss: 0.5611 - accuracy: 0.6891 - val_loss: 0.5443 - val_accuracy: 0.9667\n",
      "Epoch 78/100\n",
      "3/3 [==============================] - 0s 7ms/step - loss: 0.5560 - accuracy: 0.9244 - val_loss: 0.5406 - val_accuracy: 0.7667\n",
      "Epoch 79/100\n",
      "3/3 [==============================] - 0s 7ms/step - loss: 0.5531 - accuracy: 0.7227 - val_loss: 0.5317 - val_accuracy: 0.9667\n",
      "Epoch 80/100\n",
      "3/3 [==============================] - 0s 7ms/step - loss: 0.5503 - accuracy: 0.8319 - val_loss: 0.5266 - val_accuracy: 0.9667\n",
      "Epoch 81/100\n",
      "3/3 [==============================] - 0s 6ms/step - loss: 0.5454 - accuracy: 0.7983 - val_loss: 0.5226 - val_accuracy: 1.0000\n",
      "Epoch 82/100\n",
      "3/3 [==============================] - 0s 6ms/step - loss: 0.5429 - accuracy: 0.9160 - val_loss: 0.5177 - val_accuracy: 1.0000\n",
      "Epoch 83/100\n",
      "3/3 [==============================] - 0s 7ms/step - loss: 0.5390 - accuracy: 0.9076 - val_loss: 0.5153 - val_accuracy: 1.0000\n",
      "Epoch 84/100\n",
      "3/3 [==============================] - 0s 6ms/step - loss: 0.5343 - accuracy: 0.9328 - val_loss: 0.5120 - val_accuracy: 0.9333\n",
      "Epoch 85/100\n",
      "3/3 [==============================] - 0s 6ms/step - loss: 0.5283 - accuracy: 0.8824 - val_loss: 0.5076 - val_accuracy: 0.8333\n",
      "Epoch 86/100\n",
      "3/3 [==============================] - 0s 6ms/step - loss: 0.5243 - accuracy: 0.8067 - val_loss: 0.5029 - val_accuracy: 0.9333\n",
      "Epoch 87/100\n",
      "3/3 [==============================] - 0s 7ms/step - loss: 0.5207 - accuracy: 0.8739 - val_loss: 0.5002 - val_accuracy: 0.8333\n",
      "Epoch 88/100\n",
      "3/3 [==============================] - 0s 7ms/step - loss: 0.5162 - accuracy: 0.8319 - val_loss: 0.4981 - val_accuracy: 0.8000\n",
      "Epoch 89/100\n",
      "3/3 [==============================] - 0s 8ms/step - loss: 0.5134 - accuracy: 0.8319 - val_loss: 0.5000 - val_accuracy: 0.7000\n",
      "Epoch 90/100\n",
      "3/3 [==============================] - 0s 6ms/step - loss: 0.5093 - accuracy: 0.7059 - val_loss: 0.4859 - val_accuracy: 0.9333\n",
      "Epoch 91/100\n",
      "3/3 [==============================] - 0s 6ms/step - loss: 0.5038 - accuracy: 0.8487 - val_loss: 0.4842 - val_accuracy: 0.9333\n",
      "Epoch 92/100\n",
      "3/3 [==============================] - 0s 6ms/step - loss: 0.5034 - accuracy: 0.8151 - val_loss: 0.4782 - val_accuracy: 1.0000\n",
      "Epoch 93/100\n",
      "3/3 [==============================] - 0s 6ms/step - loss: 0.4984 - accuracy: 0.9244 - val_loss: 0.4725 - val_accuracy: 1.0000\n",
      "Epoch 94/100\n",
      "3/3 [==============================] - 0s 7ms/step - loss: 0.4933 - accuracy: 0.9076 - val_loss: 0.4728 - val_accuracy: 0.8333\n",
      "Epoch 95/100\n",
      "3/3 [==============================] - 0s 6ms/step - loss: 0.4886 - accuracy: 0.8319 - val_loss: 0.4653 - val_accuracy: 0.9333\n",
      "Epoch 96/100\n",
      "3/3 [==============================] - 0s 7ms/step - loss: 0.4857 - accuracy: 0.9160 - val_loss: 0.4696 - val_accuracy: 0.7667\n",
      "Epoch 97/100\n",
      "3/3 [==============================] - 0s 7ms/step - loss: 0.4825 - accuracy: 0.7647 - val_loss: 0.4582 - val_accuracy: 0.8667\n",
      "Epoch 98/100\n",
      "3/3 [==============================] - 0s 6ms/step - loss: 0.4778 - accuracy: 0.8403 - val_loss: 0.4537 - val_accuracy: 1.0000\n",
      "Epoch 99/100\n",
      "3/3 [==============================] - 0s 6ms/step - loss: 0.4755 - accuracy: 0.9328 - val_loss: 0.4468 - val_accuracy: 1.0000\n",
      "Epoch 100/100\n",
      "3/3 [==============================] - 0s 6ms/step - loss: 0.4739 - accuracy: 0.9244 - val_loss: 0.4438 - val_accuracy: 1.0000\n"
     ]
    },
    {
     "data": {
      "text/plain": [
       "<keras.callbacks.History at 0x2d3b1d930>"
      ]
     },
     "execution_count": 51,
     "metadata": {},
     "output_type": "execute_result"
    }
   ],
   "source": [
    "model = tf.keras.Sequential([\n",
    "    tf.keras.layers.Dense(10, activation='relu'),\n",
    "    tf.keras.layers.Dense(10, activation='relu'),\n",
    "    tf.keras.layers.Dense(3, activation='softmax')\n",
    "  ])\n",
    "model\n",
    "\n",
    "model.compile(optimizer='rmsprop',\n",
    "              loss='categorical_crossentropy',\n",
    "              metrics=['accuracy'])\n",
    "model.fit(X_train, y_train, batch_size=50, epochs=100, validation_data=(X_test,y_test))"
   ]
  },
  {
   "cell_type": "code",
   "execution_count": 49,
   "metadata": {},
   "outputs": [
    {
     "name": "stdout",
     "output_type": "stream",
     "text": [
      "Test loss: 0.332052618265152\n",
      "Test accuracy: 1.0\n"
     ]
    }
   ],
   "source": [
    "# Ev aluate the model\n",
    "\n",
    "loss, accuracy = model.evaluate(X_test, y_test, verbose=0)\n",
    "print('Test loss:', loss)\n",
    "print('Test accuracy:', accuracy)"
   ]
  },
  {
   "cell_type": "code",
   "execution_count": 50,
   "metadata": {},
   "outputs": [
    {
     "name": "stdout",
     "output_type": "stream",
     "text": [
      "(30, 4)\n",
      "1/1 [==============================] - 0s 53ms/step\n"
     ]
    },
    {
     "data": {
      "text/plain": [
       "array([[0.01724258, 0.2754913 , 0.70726615],\n",
       "       [0.03097438, 0.44527024, 0.52375543],\n",
       "       [0.08230872, 0.55884653, 0.35884485],\n",
       "       [0.10312575, 0.6238503 , 0.27302393],\n",
       "       [0.8729721 , 0.10795872, 0.01906925],\n",
       "       [0.00847399, 0.19220547, 0.7993206 ],\n",
       "       [0.02755072, 0.41091546, 0.5615338 ],\n",
       "       [0.0671365 , 0.61925375, 0.31360972],\n",
       "       [0.02357943, 0.29223704, 0.6841835 ],\n",
       "       [0.06100899, 0.6307412 , 0.3082499 ],\n",
       "       [0.90869886, 0.07958527, 0.01171589],\n",
       "       [0.8926201 , 0.09284845, 0.01453151],\n",
       "       [0.05100723, 0.5363485 , 0.4126443 ],\n",
       "       [0.8831983 , 0.10112239, 0.01567928],\n",
       "       [0.89630586, 0.08888046, 0.01481369],\n",
       "       [0.03025405, 0.42407703, 0.54566896],\n",
       "       [0.01837316, 0.32054493, 0.66108185],\n",
       "       [0.07818151, 0.6506371 , 0.2711814 ],\n",
       "       [0.9354955 , 0.05706168, 0.00744281],\n",
       "       [0.9381048 , 0.05471951, 0.00717578],\n",
       "       [0.8240704 , 0.14828973, 0.02763994],\n",
       "       [0.90869886, 0.07958527, 0.01171589],\n",
       "       [0.05270419, 0.62453157, 0.32276425],\n",
       "       [0.86701375, 0.11454853, 0.01843774],\n",
       "       [0.04625884, 0.5380107 , 0.41573048],\n",
       "       [0.0735004 , 0.6305444 , 0.29595518],\n",
       "       [0.05237188, 0.5816331 , 0.36599502],\n",
       "       [0.9355714 , 0.05711153, 0.00731712],\n",
       "       [0.8889618 , 0.09601542, 0.01502276],\n",
       "       [0.01100699, 0.24986045, 0.7391325 ]], dtype=float32)"
      ]
     },
     "execution_count": 50,
     "metadata": {},
     "output_type": "execute_result"
    }
   ],
   "source": [
    "print(X_test.shape)\n",
    "y_pred = model.predict(X_test)\n",
    "y_pred"
   ]
  },
  {
   "cell_type": "markdown",
   "metadata": {},
   "source": [
    "---\n",
    "\n",
    "# References\n",
    "\n",
    "There are many books about Deep Learning and many more on Machine Learning. \n",
    "This list is by no means an exhaustive list of books. I am listing the books from which I took inspiration. Also, I am listing materials where I found better ways to present topics. Often I am amazed by how people can create approachable materials for seemingly dry subjects.\n",
    "\n",
    "The order of the books goes from divulgation and practical to the more rigorous and mathematical. Slides, blogs, and videos are those I have found over the internet or suggested by others.\n",
    "\n",
    "### Selection of Books on Deep Learning\n",
    "\n",
    "<br>\n",
    "<div style=\"clear: both; display: table;\">\n",
    "  <div style=\"border: none; float: left; width: 200; padding: 5px\">\n",
    "  <img alt=\"Deep Learning - Kelleher\" \n",
    "       src=\"./fig/books/Deep Learning - Kelleher.jpg\" \n",
    "       height=\"100\" width=\"100\"  />\n",
    "  </div>\n",
    "  <div style=\"border: none; float: left; width: 800; padding: 5px\">\n",
    "      Deep Learning<br>\n",
    "      John D. Kelleher<br>\n",
    "      2019<br>\n",
    "  </div>\n",
    "</div>\n",
    "\n",
    "<br>\n",
    "<div style=\"clear: both; display: table;\">\n",
    "  <div style=\"border: none; float: left; width: 200; padding: 5px\">\n",
    "  <img alt=\"Introduction to Deep Learning - Charniak\" \n",
    "       src=\"./fig/books/Introduction to Deep Learning - Charniak.jpg\" \n",
    "       height=\"100\" width=\"100\"  />\n",
    "  </div>\n",
    "  <div style=\"border: none; float: left; width: 800; padding: 5px\">\n",
    "      Introduction to Deep Learning<br>\n",
    "      Eugene Charniak<br>\n",
    "      2018<br>\n",
    "  </div>\n",
    "</div>\n",
    "\n",
    "<br>\n",
    "<div style=\"clear: both; display: table;\">\n",
    "  <div style=\"border: none; float: left; width: 200; padding: 5px\">\n",
    "  <img alt=\"Introduction to Deep Learning - Skansi\" \n",
    "       src=\"./fig/books/Introduction to Deep Learning - Skansi.jpg\" \n",
    "       height=\"100\" width=\"100\"  />\n",
    "  </div>\n",
    "  <div style=\"border: none; float: left; width: 800; padding: 5px\">\n",
    "      Introduction to Deep Learning<br>\n",
    "      Sandro Skansi<br>\n",
    "      2018<br>\n",
    "  </div>\n",
    "</div>\n",
    "\n",
    "<br>\n",
    "<div style=\"clear: both; display: table;\">\n",
    "  <div style=\"border: none; float: left; width: 200; padding: 5px\">\n",
    "  <img alt=\"Deep Learning with PyTorch - Subramanian\" \n",
    "       src=\"./fig/books/Deep Learning with PyTorch - Subramanian.jpg\" \n",
    "       height=\"100\" width=\"100\"  />\n",
    "  </div>\n",
    "  <div style=\"border: none; float: left; width: 800; padding: 5px\">\n",
    "      Deep Learning with PyTorch<br>\n",
    "      Vishnu Subramanian<br>\n",
    "      2018<br>\n",
    "  </div>\n",
    "</div>\n",
    "\n",
    "<br>\n",
    "<div style=\"clear: both; display: table;\">\n",
    "  <div style=\"border: none; float: left; width: 200; padding: 5px\">\n",
    "  <img alt=\"Deep Learning with PyTorch - Stevens\" \n",
    "       src=\"./fig/books/Deep Learning with PyTorch - Stevens.png\" \n",
    "       height=\"100\" width=\"100\"  />\n",
    "  </div>\n",
    "  <div style=\"border: none; float: left; width: 800; padding: 5px\">\n",
    "      Deep Learning with PyTorch<br>\n",
    "      Eli Stevens, Luca Artiga and Thomas Viehmann<br>\n",
    "      2020<br>\n",
    "  </div>\n",
    "</div>\n",
    "\n",
    "<br>\n",
    "<div style=\"clear: both; display: table;\">\n",
    "  <div style=\"border: none; float: left; width: 200; padding: 5px\">\n",
    "  <img alt=\"Deep Learning with Python - Chollet\" \n",
    "       src=\"./fig/books/Deep Learning with Python - Chollet.jpg\" \n",
    "       height=\"100\" width=\"100\" />\n",
    "  </div>\n",
    "  <div style=\"border: none; float: left; width: 800; padding: 5px\">\n",
    "      Deep Learning with Python (Second Edition)<br>\n",
    "      François Chollet<br>\n",
    "      2021<br>\n",
    "  </div>\n",
    "</div>\n",
    "\n",
    "<br>\n",
    "<div style=\"clear: both; display: table;\">\n",
    "  <div style=\"border: none; float: left; width: 200; padding: 5px\">\n",
    "  <img alt=\"Deep Learning - Patterson\" \n",
    "       src=\"./fig/books/Deep Learning - Patterson.jpeg\"\n",
    "       height=\"100\" width=\"100\" />\n",
    "  </div>\n",
    "  <div style=\"border: none; float: left; width: 800; padding: 5px\">\n",
    "      Deep Learning, a practitioner's approach<br>\n",
    "      Josh Patterson and Adam Gibson<br>\n",
    "      2017<br>\n",
    "  </div>\n",
    "</div>\n",
    "\n",
    "<br>\n",
    "<div style=\"clear: both; display: table;\">\n",
    "  <div style=\"border: none; float: left; width: 200; padding: 5px\">\n",
    "  <img alt=\"Deep Learning - Goodfellow\" \n",
    "       src=\"./fig/books/Deep Learning - Goodfellow.jpg\" \n",
    "       height=\"100\" width=\"100\"  />\n",
    "  </div>\n",
    "  <div style=\"border: none; float: left; width: 800; padding: 5px\">\n",
    "      Deep Learning<br>\n",
    "      Ian Goodfellow, Yoshua Bengio, and Aaron Courville<br>\n",
    "      2016<br>\n",
    "  </div>\n",
    "</div>\n",
    "\n",
    "### Interactive Books\n",
    "\n",
    "  * [Dive into Deep Learning](https://d2l.ai/index.html)<br>\n",
    "    Interactive deep learning book with code, math, and discussions<br> \n",
    "    Implemented with PyTorch, NumPy/MXNet, and TensorFlow<br>\n",
    "    Adopted at 300 universities from 55 countries\n",
    "\n",
    "\n",
    "### Slides\n",
    "\n",
    "  * John Urbanic's [\"Deep Learning in one Afternoon\"](https://www.psc.edu/wp-content/uploads/2022/04/Deep-Learning.pdf)<br>\n",
    "An excellent fast, condensed introduction to Deep Learning.<br>\n",
    "John is a Parallel Computing Scientist at Pittsburgh Supercomputing Center\n",
    "\n",
    "  * [Christopher Olah's Blog](http://colah.github.io) is very good. For example about [Back Propagation](http://colah.github.io/posts/2015-08-Backprop)\n",
    "\n",
    "  * Adam W. Harley on his CMU page offers [An Interactive Node-Link Visualization of Convolutional Neural Networks](https://www.cs.cmu.edu/~aharley/vis/)\n",
    "\n",
    "\n",
    "\n",
    "### Jupyter Notebooks\n",
    "\n",
    " * [Yale Digital Humanities Lab](https://github.com/YaleDHLab/lab-workshops)\n",
    " \n",
    " * Aurelien Geron Hands-on Machine Learning with Scikit-learn \n",
    "   [First Edition](https://github.com/ageron/handson-ml) and\n",
    "   [Second Edition](https://github.com/ageron/handson-ml2)\n",
    "   \n",
    " * [A progressive collection notebooks of the Machine Learning course by the University of Turin](https://github.com/rugantio/MachineLearningCourse)\n",
    "   \n",
    " * [A curated set of jupyter notebooks about many topics](https://github.com/jupyter/jupyter/wiki/A-gallery-of-interesting-Jupyter-Notebooks)\n",
    "   \n",
    "### Videos\n",
    "\n",
    " * [Caltech's \"Learning from Data\" by Professor Yaser Abu-Mostafa](https://work.caltech.edu/telecourse.html)\n",
    " \n",
    " * [3Blue1Brown Youtube Channel](https://www.youtube.com/watch?v=Ilg3gGewQ5U)\n",
    " \n",
    " ---"
   ]
  },
  {
   "cell_type": "markdown",
   "metadata": {},
   "source": [
    "# Back of the Book"
   ]
  },
  {
   "cell_type": "code",
   "execution_count": null,
   "metadata": {
    "scrolled": false
   },
   "outputs": [],
   "source": [
    "n = chapter_number\n",
    "t = np.linspace(0, (2*(n-1)+1)*np.pi/2, 1000)\n",
    "x = t*np.cos(t)**3\n",
    "y = 9*t*np.sqrt(np.abs(np.cos(t))) + t*np.sin(0.3*t)*np.cos(2*t)\n",
    "plt.plot(x, y, c=\"green\")\n",
    "plt.axis('off');"
   ]
  },
  {
   "cell_type": "code",
   "execution_count": null,
   "metadata": {},
   "outputs": [],
   "source": [
    "end = time.time()\n",
    "print(f'Chapter {chapter_number} took {int(end - start):d} seconds')"
   ]
  },
  {
   "cell_type": "code",
   "execution_count": null,
   "metadata": {},
   "outputs": [],
   "source": []
  }
 ],
 "metadata": {
  "kernelspec": {
   "display_name": "Python 3 (ipykernel)",
   "language": "python",
   "name": "python3"
  },
  "language_info": {
   "codemirror_mode": {
    "name": "ipython",
    "version": 3
   },
   "file_extension": ".py",
   "mimetype": "text/x-python",
   "name": "python",
   "nbconvert_exporter": "python",
   "pygments_lexer": "ipython3",
   "version": "3.10.8"
  }
 },
 "nbformat": 4,
 "nbformat_minor": 2
}
