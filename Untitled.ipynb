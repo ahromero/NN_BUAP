{
 "cells": [
  {
   "cell_type": "code",
   "execution_count": 1,
   "id": "03254a9e",
   "metadata": {},
   "outputs": [],
   "source": [
    "import numpy as np"
   ]
  },
  {
   "cell_type": "code",
   "execution_count": 6,
   "id": "32b399ca",
   "metadata": {},
   "outputs": [],
   "source": [
    "f=[[-1,-1,-1],[-1,8,-1],[-1,-1,-1]]"
   ]
  },
  {
   "cell_type": "code",
   "execution_count": 7,
   "id": "ed9ce974",
   "metadata": {},
   "outputs": [],
   "source": [
    "f=np.array(f)"
   ]
  },
  {
   "cell_type": "code",
   "execution_count": 8,
   "id": "2f3340dc",
   "metadata": {},
   "outputs": [
    {
     "data": {
      "text/plain": [
       "numpy.ndarray"
      ]
     },
     "execution_count": 8,
     "metadata": {},
     "output_type": "execute_result"
    }
   ],
   "source": [
    "type(f)"
   ]
  },
  {
   "cell_type": "code",
   "execution_count": 9,
   "id": "5eab0a34",
   "metadata": {},
   "outputs": [],
   "source": [
    "imag=[[0,0,0,1,1,1],[0,0,0,1,1,1],[0,0,0,1,1,1],[0,0,0,1,1,1],[0,0,0,1,1,1],[0,0,0,1,1,1]]"
   ]
  },
  {
   "cell_type": "code",
   "execution_count": 18,
   "id": "404e7957",
   "metadata": {},
   "outputs": [
    {
     "name": "stdout",
     "output_type": "stream",
     "text": [
      "[[0 0 0 1 1 1]\n",
      " [0 0 0 1 1 1]\n",
      " [0 0 0 1 1 1]\n",
      " [0 0 0 1 1 1]\n",
      " [0 0 0 1 1 1]\n",
      " [0 0 0 1 1 1]]\n"
     ]
    }
   ],
   "source": [
    "imag=np.array(imag)\n",
    "print(imag)"
   ]
  },
  {
   "cell_type": "code",
   "execution_count": 14,
   "id": "66e54c2a",
   "metadata": {},
   "outputs": [
    {
     "data": {
      "text/plain": [
       "array([[0, 0, 0],\n",
       "       [0, 0, 0],\n",
       "       [0, 0, 0]])"
      ]
     },
     "execution_count": 14,
     "metadata": {},
     "output_type": "execute_result"
    }
   ],
   "source": [
    "np.dot(imag[0:3,0:3],f)"
   ]
  },
  {
   "cell_type": "code",
   "execution_count": 25,
   "id": "bb28729d",
   "metadata": {},
   "outputs": [],
   "source": [
    "def m_imag(a,b):\n",
    "    return np.max(np.dot(a,b))"
   ]
  },
  {
   "cell_type": "code",
   "execution_count": 16,
   "id": "d2aaea73",
   "metadata": {},
   "outputs": [
    {
     "data": {
      "text/plain": [
       "0"
      ]
     },
     "execution_count": 16,
     "metadata": {},
     "output_type": "execute_result"
    }
   ],
   "source": [
    "m_imag(imag[0:3,0:3],f)"
   ]
  },
  {
   "cell_type": "code",
   "execution_count": 26,
   "id": "7ce8f2be",
   "metadata": {},
   "outputs": [
    {
     "name": "stdout",
     "output_type": "stream",
     "text": [
      "0\n",
      "-1\n",
      "7\n",
      "6\n"
     ]
    }
   ],
   "source": [
    "for i in range(0,4):\n",
    "    print(m_imag(imag[0:3,i:3+i],f))"
   ]
  },
  {
   "cell_type": "code",
   "execution_count": null,
   "id": "b49ade1a",
   "metadata": {},
   "outputs": [],
   "source": []
  }
 ],
 "metadata": {
  "kernelspec": {
   "display_name": "Python 3 (ipykernel)",
   "language": "python",
   "name": "python3"
  },
  "language_info": {
   "codemirror_mode": {
    "name": "ipython",
    "version": 3
   },
   "file_extension": ".py",
   "mimetype": "text/x-python",
   "name": "python",
   "nbconvert_exporter": "python",
   "pygments_lexer": "ipython3",
   "version": "3.10.9"
  }
 },
 "nbformat": 4,
 "nbformat_minor": 5
}
